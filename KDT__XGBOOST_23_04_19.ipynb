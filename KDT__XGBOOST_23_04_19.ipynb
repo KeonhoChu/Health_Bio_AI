{
  "nbformat": 4,
  "nbformat_minor": 0,
  "metadata": {
    "colab": {
      "provenance": [],
      "toc_visible": true,
      "authorship_tag": "ABX9TyN3ePLHJXU+ClgTb6hUFxc3",
      "include_colab_link": true
    },
    "kernelspec": {
      "name": "python3",
      "display_name": "Python 3"
    },
    "language_info": {
      "name": "python"
    }
  },
  "cells": [
    {
      "cell_type": "markdown",
      "metadata": {
        "id": "view-in-github",
        "colab_type": "text"
      },
      "source": [
        "<a href=\"https://colab.research.google.com/github/KeonhoChu/KDT-/blob/main/KDT__XGBOOST_23_04_19.ipynb\" target=\"_parent\"><img src=\"https://colab.research.google.com/assets/colab-badge.svg\" alt=\"Open In Colab\"/></a>"
      ]
    },
    {
      "cell_type": "code",
      "execution_count": 1,
      "metadata": {
        "id": "QnA35Q5LKs9Z"
      },
      "outputs": [],
      "source": [
        "# 노트북이 코랩에서 실행 중인지 체크합니다.\n",
        "import sys\n",
        "if 'google.colab' in sys.modules:\n",
        "    !pip install -q --upgrade xgboost\n",
        "    !wget -q https://raw.githubusercontent.com/rickiepark/handson-gb/main/Chapter06/heart_disease.csv"
      ]
    },
    {
      "cell_type": "markdown",
      "source": [
        "- target : binary value(1: 심장 질환 있는 사람 / 0:그렇지 않다)\n",
        "- age : 나이\n",
        "- sex : 성별(1=남성,0=여성)\n",
        "- cp : 가슴 통증(chest pain) (1=전형적인 협심증, 2= 비전형적인 협심증, 3=협심증이 아닌 통증, 4=무증상)\n",
        "- trestbps : 안정혈압 (입원시 mmHg)\n",
        "- chol : 혈청 콜레스테롤(serum cholesterol)(mg/dl)\n",
        "- fbs : 공복혈당 > 120 mg/dl (1=True, 0=False)\n",
        "- restecg : 심전도 결과(0=정상, 1=ST-T파 이상)(T파 반전 및 또는 0.05mV 이상의 ST 상승 또는 감소), 2 = Estes 기준에 의해 좌심실 비대증 가능성 또는 유력\n",
        "- thalach : 최대 심장 박동수\n",
        "- exang : 운동으로 인한 협심증(1=yes, 2=no)\n",
        "- oldpeak : 휴식 대비 운동으로 인한 ST 감소\n",
        "- slope : 최대 운동 ST 세그먼트 기울기(1=상승 기울기, 2=수평,3=하강 기울기)\n",
        "- ca : 형광 투시로 착색된 주요 혈관(0-3)\n",
        "- thal : 탈륨 스트레스 테스트(3=정상, 6=고정 결합, 7=가역적 결함)"
      ],
      "metadata": {
        "id": "fK6amsW7Kxpw"
      }
    },
    {
      "cell_type": "markdown",
      "source": [
        "- verbose\n",
        "    - 실행 과정 출력 여부(=0 기본값, 대규모 모델을 만들 때는 verbose=1로 선언함)"
      ],
      "metadata": {
        "id": "j3BniRV-K5fQ"
      }
    },
    {
      "cell_type": "code",
      "source": [
        "# 경고 끄기\n",
        "import warnings\n",
        "warnings.filterwarnings('ignore')\n",
        "\n",
        "import xgboost as xgb\n",
        "xgb.set_config(verbosity=0)"
      ],
      "metadata": {
        "id": "vZ-WrSJKKyGo"
      },
      "execution_count": 3,
      "outputs": []
    },
    {
      "cell_type": "code",
      "source": [
        "import pandas as pd\n",
        "df = pd.read_csv('heart_disease.csv')\n",
        "df.head()"
      ],
      "metadata": {
        "colab": {
          "base_uri": "https://localhost:8080/",
          "height": 206
        },
        "id": "k4SwQslEK7AL",
        "outputId": "9338a306-bcc8-4343-bf58-f938cffdf673"
      },
      "execution_count": 4,
      "outputs": [
        {
          "output_type": "execute_result",
          "data": {
            "text/plain": [
              "   age  sex  cp  trestbps  chol  fbs  restecg  thalach  exang  oldpeak  slope  \\\n",
              "0   63    1   3       145   233    1        0      150      0      2.3      0   \n",
              "1   37    1   2       130   250    0        1      187      0      3.5      0   \n",
              "2   41    0   1       130   204    0        0      172      0      1.4      2   \n",
              "3   56    1   1       120   236    0        1      178      0      0.8      2   \n",
              "4   57    0   0       120   354    0        1      163      1      0.6      2   \n",
              "\n",
              "   ca  thal  target  \n",
              "0   0     1       1  \n",
              "1   0     2       1  \n",
              "2   0     2       1  \n",
              "3   0     2       1  \n",
              "4   0     2       1  "
            ],
            "text/html": [
              "\n",
              "  <div id=\"df-46113972-a33d-4159-8d09-c49142329656\">\n",
              "    <div class=\"colab-df-container\">\n",
              "      <div>\n",
              "<style scoped>\n",
              "    .dataframe tbody tr th:only-of-type {\n",
              "        vertical-align: middle;\n",
              "    }\n",
              "\n",
              "    .dataframe tbody tr th {\n",
              "        vertical-align: top;\n",
              "    }\n",
              "\n",
              "    .dataframe thead th {\n",
              "        text-align: right;\n",
              "    }\n",
              "</style>\n",
              "<table border=\"1\" class=\"dataframe\">\n",
              "  <thead>\n",
              "    <tr style=\"text-align: right;\">\n",
              "      <th></th>\n",
              "      <th>age</th>\n",
              "      <th>sex</th>\n",
              "      <th>cp</th>\n",
              "      <th>trestbps</th>\n",
              "      <th>chol</th>\n",
              "      <th>fbs</th>\n",
              "      <th>restecg</th>\n",
              "      <th>thalach</th>\n",
              "      <th>exang</th>\n",
              "      <th>oldpeak</th>\n",
              "      <th>slope</th>\n",
              "      <th>ca</th>\n",
              "      <th>thal</th>\n",
              "      <th>target</th>\n",
              "    </tr>\n",
              "  </thead>\n",
              "  <tbody>\n",
              "    <tr>\n",
              "      <th>0</th>\n",
              "      <td>63</td>\n",
              "      <td>1</td>\n",
              "      <td>3</td>\n",
              "      <td>145</td>\n",
              "      <td>233</td>\n",
              "      <td>1</td>\n",
              "      <td>0</td>\n",
              "      <td>150</td>\n",
              "      <td>0</td>\n",
              "      <td>2.3</td>\n",
              "      <td>0</td>\n",
              "      <td>0</td>\n",
              "      <td>1</td>\n",
              "      <td>1</td>\n",
              "    </tr>\n",
              "    <tr>\n",
              "      <th>1</th>\n",
              "      <td>37</td>\n",
              "      <td>1</td>\n",
              "      <td>2</td>\n",
              "      <td>130</td>\n",
              "      <td>250</td>\n",
              "      <td>0</td>\n",
              "      <td>1</td>\n",
              "      <td>187</td>\n",
              "      <td>0</td>\n",
              "      <td>3.5</td>\n",
              "      <td>0</td>\n",
              "      <td>0</td>\n",
              "      <td>2</td>\n",
              "      <td>1</td>\n",
              "    </tr>\n",
              "    <tr>\n",
              "      <th>2</th>\n",
              "      <td>41</td>\n",
              "      <td>0</td>\n",
              "      <td>1</td>\n",
              "      <td>130</td>\n",
              "      <td>204</td>\n",
              "      <td>0</td>\n",
              "      <td>0</td>\n",
              "      <td>172</td>\n",
              "      <td>0</td>\n",
              "      <td>1.4</td>\n",
              "      <td>2</td>\n",
              "      <td>0</td>\n",
              "      <td>2</td>\n",
              "      <td>1</td>\n",
              "    </tr>\n",
              "    <tr>\n",
              "      <th>3</th>\n",
              "      <td>56</td>\n",
              "      <td>1</td>\n",
              "      <td>1</td>\n",
              "      <td>120</td>\n",
              "      <td>236</td>\n",
              "      <td>0</td>\n",
              "      <td>1</td>\n",
              "      <td>178</td>\n",
              "      <td>0</td>\n",
              "      <td>0.8</td>\n",
              "      <td>2</td>\n",
              "      <td>0</td>\n",
              "      <td>2</td>\n",
              "      <td>1</td>\n",
              "    </tr>\n",
              "    <tr>\n",
              "      <th>4</th>\n",
              "      <td>57</td>\n",
              "      <td>0</td>\n",
              "      <td>0</td>\n",
              "      <td>120</td>\n",
              "      <td>354</td>\n",
              "      <td>0</td>\n",
              "      <td>1</td>\n",
              "      <td>163</td>\n",
              "      <td>1</td>\n",
              "      <td>0.6</td>\n",
              "      <td>2</td>\n",
              "      <td>0</td>\n",
              "      <td>2</td>\n",
              "      <td>1</td>\n",
              "    </tr>\n",
              "  </tbody>\n",
              "</table>\n",
              "</div>\n",
              "      <button class=\"colab-df-convert\" onclick=\"convertToInteractive('df-46113972-a33d-4159-8d09-c49142329656')\"\n",
              "              title=\"Convert this dataframe to an interactive table.\"\n",
              "              style=\"display:none;\">\n",
              "        \n",
              "  <svg xmlns=\"http://www.w3.org/2000/svg\" height=\"24px\"viewBox=\"0 0 24 24\"\n",
              "       width=\"24px\">\n",
              "    <path d=\"M0 0h24v24H0V0z\" fill=\"none\"/>\n",
              "    <path d=\"M18.56 5.44l.94 2.06.94-2.06 2.06-.94-2.06-.94-.94-2.06-.94 2.06-2.06.94zm-11 1L8.5 8.5l.94-2.06 2.06-.94-2.06-.94L8.5 2.5l-.94 2.06-2.06.94zm10 10l.94 2.06.94-2.06 2.06-.94-2.06-.94-.94-2.06-.94 2.06-2.06.94z\"/><path d=\"M17.41 7.96l-1.37-1.37c-.4-.4-.92-.59-1.43-.59-.52 0-1.04.2-1.43.59L10.3 9.45l-7.72 7.72c-.78.78-.78 2.05 0 2.83L4 21.41c.39.39.9.59 1.41.59.51 0 1.02-.2 1.41-.59l7.78-7.78 2.81-2.81c.8-.78.8-2.07 0-2.86zM5.41 20L4 18.59l7.72-7.72 1.47 1.35L5.41 20z\"/>\n",
              "  </svg>\n",
              "      </button>\n",
              "      \n",
              "  <style>\n",
              "    .colab-df-container {\n",
              "      display:flex;\n",
              "      flex-wrap:wrap;\n",
              "      gap: 12px;\n",
              "    }\n",
              "\n",
              "    .colab-df-convert {\n",
              "      background-color: #E8F0FE;\n",
              "      border: none;\n",
              "      border-radius: 50%;\n",
              "      cursor: pointer;\n",
              "      display: none;\n",
              "      fill: #1967D2;\n",
              "      height: 32px;\n",
              "      padding: 0 0 0 0;\n",
              "      width: 32px;\n",
              "    }\n",
              "\n",
              "    .colab-df-convert:hover {\n",
              "      background-color: #E2EBFA;\n",
              "      box-shadow: 0px 1px 2px rgba(60, 64, 67, 0.3), 0px 1px 3px 1px rgba(60, 64, 67, 0.15);\n",
              "      fill: #174EA6;\n",
              "    }\n",
              "\n",
              "    [theme=dark] .colab-df-convert {\n",
              "      background-color: #3B4455;\n",
              "      fill: #D2E3FC;\n",
              "    }\n",
              "\n",
              "    [theme=dark] .colab-df-convert:hover {\n",
              "      background-color: #434B5C;\n",
              "      box-shadow: 0px 1px 3px 1px rgba(0, 0, 0, 0.15);\n",
              "      filter: drop-shadow(0px 1px 2px rgba(0, 0, 0, 0.3));\n",
              "      fill: #FFFFFF;\n",
              "    }\n",
              "  </style>\n",
              "\n",
              "      <script>\n",
              "        const buttonEl =\n",
              "          document.querySelector('#df-46113972-a33d-4159-8d09-c49142329656 button.colab-df-convert');\n",
              "        buttonEl.style.display =\n",
              "          google.colab.kernel.accessAllowed ? 'block' : 'none';\n",
              "\n",
              "        async function convertToInteractive(key) {\n",
              "          const element = document.querySelector('#df-46113972-a33d-4159-8d09-c49142329656');\n",
              "          const dataTable =\n",
              "            await google.colab.kernel.invokeFunction('convertToInteractive',\n",
              "                                                     [key], {});\n",
              "          if (!dataTable) return;\n",
              "\n",
              "          const docLinkHtml = 'Like what you see? Visit the ' +\n",
              "            '<a target=\"_blank\" href=https://colab.research.google.com/notebooks/data_table.ipynb>data table notebook</a>'\n",
              "            + ' to learn more about interactive tables.';\n",
              "          element.innerHTML = '';\n",
              "          dataTable['output_type'] = 'display_data';\n",
              "          await google.colab.output.renderOutput(dataTable, element);\n",
              "          const docLink = document.createElement('div');\n",
              "          docLink.innerHTML = docLinkHtml;\n",
              "          element.appendChild(docLink);\n",
              "        }\n",
              "      </script>\n",
              "    </div>\n",
              "  </div>\n",
              "  "
            ]
          },
          "metadata": {},
          "execution_count": 4
        }
      ]
    },
    {
      "cell_type": "code",
      "source": [
        "df.info()"
      ],
      "metadata": {
        "colab": {
          "base_uri": "https://localhost:8080/"
        },
        "id": "_VxcmI_-K748",
        "outputId": "0b0df4a3-a54f-4255-fd0f-a7b7d6f66960"
      },
      "execution_count": 5,
      "outputs": [
        {
          "output_type": "stream",
          "name": "stdout",
          "text": [
            "<class 'pandas.core.frame.DataFrame'>\n",
            "RangeIndex: 303 entries, 0 to 302\n",
            "Data columns (total 14 columns):\n",
            " #   Column    Non-Null Count  Dtype  \n",
            "---  ------    --------------  -----  \n",
            " 0   age       303 non-null    int64  \n",
            " 1   sex       303 non-null    int64  \n",
            " 2   cp        303 non-null    int64  \n",
            " 3   trestbps  303 non-null    int64  \n",
            " 4   chol      303 non-null    int64  \n",
            " 5   fbs       303 non-null    int64  \n",
            " 6   restecg   303 non-null    int64  \n",
            " 7   thalach   303 non-null    int64  \n",
            " 8   exang     303 non-null    int64  \n",
            " 9   oldpeak   303 non-null    float64\n",
            " 10  slope     303 non-null    int64  \n",
            " 11  ca        303 non-null    int64  \n",
            " 12  thal      303 non-null    int64  \n",
            " 13  target    303 non-null    int64  \n",
            "dtypes: float64(1), int64(13)\n",
            "memory usage: 33.3 KB\n"
          ]
        }
      ]
    },
    {
      "cell_type": "markdown",
      "source": [
        "\n",
        "\n",
        "``\n",
        "\n",
        "- XGbClassifier"
      ],
      "metadata": {
        "id": "oA0p64QWK_bN"
      }
    },
    {
      "cell_type": "code",
      "source": [
        "from xgboost import XGBClassifier\n",
        "from sklearn.metrics import accuracy_score"
      ],
      "metadata": {
        "id": "kSqYMwmTK9B-"
      },
      "execution_count": 6,
      "outputs": []
    },
    {
      "cell_type": "code",
      "source": [
        "# 데이터를 X와 y로 나눕니다.\n",
        "X = df.iloc[:, :-1]\n",
        "y = df.iloc[:, -1]"
      ],
      "metadata": {
        "id": "fQmQFpYBLDxA"
      },
      "execution_count": 7,
      "outputs": []
    },
    {
      "cell_type": "code",
      "source": [
        "model = XGBClassifier(booster='gbtree', objective='binary:logistic')"
      ],
      "metadata": {
        "id": "wjlLCl8nLEpW"
      },
      "execution_count": 8,
      "outputs": []
    },
    {
      "cell_type": "code",
      "source": [
        "# cross_val_score를 임포트합니다.\n",
        "from sklearn.model_selection import cross_val_score\n",
        "\n",
        "# numpy를 임포트합니다.\n",
        "import numpy as np\n",
        "\n",
        "# 교차 검증 점수를 구합니다.\n",
        "scores = cross_val_score(model, X, y, cv=5)\n",
        "\n",
        "# 정확도를 출력합니다.\n",
        "print('정확도:', np.round(scores, 2))\n",
        "\n",
        "# 정확도 평균을 출력합니다.\n",
        "print('정확도 평균: %0.2f' % (scores.mean()))"
      ],
      "metadata": {
        "colab": {
          "base_uri": "https://localhost:8080/"
        },
        "id": "4ttj5DQ4LFjB",
        "outputId": "ce1b6294-0781-439a-c1f4-b2fa637638e1"
      },
      "execution_count": 9,
      "outputs": [
        {
          "output_type": "stream",
          "name": "stdout",
          "text": [
            "정확도: [0.84 0.85 0.82 0.8  0.77]\n",
            "정확도 평균: 0.81\n"
          ]
        }
      ]
    },
    {
      "cell_type": "markdown",
      "source": [
        "- booster = 'gbtree' : 어떤 부스트 구조를 쓸지 결정하는 것. / 의사결정기반 모형(gbtree)\n",
        "- objective = 'multi::logistic' / 이진 분류의 기본 손실 함수"
      ],
      "metadata": {
        "id": "AVU8yLgFLHlZ"
      }
    },
    {
      "cell_type": "markdown",
      "source": [
        "### StratifiedKFold\n",
        "- 각 fold의 타깃 레이블의 비율을 동일하게 만듦.\n",
        "\n",
        "- 참고 : https://amueller.github.io/aml/04-model-evaluation/1-data-splitting-strategies.html"
      ],
      "metadata": {
        "id": "eCLcL8GKLJTE"
      }
    },
    {
      "cell_type": "markdown",
      "source": [
        "- cross_val_score()와 GridSearchCV, RandomizedSearchCV에서 분류 모델을 받으면 기본적으로 StratifiedKFold(n_splits=cv) 객체를 사용하기 때문에, cv 매개변수에 폴드 수만 지정하면 됨.\n",
        "\n",
        "- Fold를 나누기 전에 데이터를 섞기 위해 StratifiedKFold의 shuffle 매개변수(기본값 False)를 True로 지정하여 직접 StratifiedKFold의 객체를 만들어 cv 매개변수에 전달을 함."
      ],
      "metadata": {
        "id": "h0u-otzkLK3_"
      }
    },
    {
      "cell_type": "code",
      "source": [
        "# StratifiedKFold를 임포트합니다.\n",
        "from sklearn.model_selection import StratifiedKFold\n",
        "\n",
        "kfold = StratifiedKFold(n_splits=5, shuffle=True, random_state=2)"
      ],
      "metadata": {
        "id": "kso7OpOBLGPC"
      },
      "execution_count": 10,
      "outputs": []
    },
    {
      "cell_type": "code",
      "source": [
        "print('전체 데이터의 클래스 분포:', np.bincount(y))\n",
        "print()\n",
        "\n",
        "for split_no, (train_idx, test_idx) in enumerate(kfold.split(X, y)):\n",
        "    print('{}번째 훈련 폴드:'.format(split_no+1), np.bincount(y[train_idx]))\n",
        "    print('{}번째 검증 폴드:'.format(split_no+1), np.bincount(y[test_idx]))\n",
        "    print()"
      ],
      "metadata": {
        "colab": {
          "base_uri": "https://localhost:8080/"
        },
        "id": "dp0ZrC2zLMEA",
        "outputId": "0100433a-faea-438d-f405-4b51c8358ca1"
      },
      "execution_count": 11,
      "outputs": [
        {
          "output_type": "stream",
          "name": "stdout",
          "text": [
            "전체 데이터의 클래스 분포: [138 165]\n",
            "\n",
            "1번째 훈련 폴드: [110 132]\n",
            "1번째 검증 폴드: [28 33]\n",
            "\n",
            "2번째 훈련 폴드: [110 132]\n",
            "2번째 검증 폴드: [28 33]\n",
            "\n",
            "3번째 훈련 폴드: [110 132]\n",
            "3번째 검증 폴드: [28 33]\n",
            "\n",
            "4번째 훈련 폴드: [111 132]\n",
            "4번째 검증 폴드: [27 33]\n",
            "\n",
            "5번째 훈련 폴드: [111 132]\n",
            "5번째 검증 폴드: [27 33]\n",
            "\n"
          ]
        }
      ]
    },
    {
      "cell_type": "markdown",
      "source": [
        "- 기준 모델"
      ],
      "metadata": {
        "id": "09HwG2YELOL3"
      }
    },
    {
      "cell_type": "code",
      "source": [
        "# 교차 검증 점수를 계산합니다.\n",
        "scores = cross_val_score(model, X, y, cv=kfold)\n",
        "\n",
        "# 정확도를 출력합니다.\n",
        "print('정확도:', np.round(scores, 2))\n",
        "\n",
        "# 정확도 평균을 출력합니다.\n",
        "print('정확도 평균: %0.2f' % (scores.mean()))"
      ],
      "metadata": {
        "colab": {
          "base_uri": "https://localhost:8080/"
        },
        "id": "YOPr28WTLM4_",
        "outputId": "a3668240-f811-49bf-de69-4e3b15952875"
      },
      "execution_count": 12,
      "outputs": [
        {
          "output_type": "stream",
          "name": "stdout",
          "text": [
            "정확도: [0.72 0.82 0.75 0.8  0.82]\n",
            "정확도 평균: 0.78\n"
          ]
        }
      ]
    },
    {
      "cell_type": "markdown",
      "source": [
        "- GridSearch와 RandomizedSearchCV"
      ],
      "metadata": {
        "id": "LtQMaUDSLQtx"
      }
    },
    {
      "cell_type": "code",
      "source": [
        "from sklearn.model_selection import GridSearchCV, RandomizedSearchCV\n",
        "\n",
        "kfold = StratifiedKFold(n_splits=5, shuffle=True, random_state=2)"
      ],
      "metadata": {
        "id": "o4cuTAw6LPVi"
      },
      "execution_count": 13,
      "outputs": []
    },
    {
      "cell_type": "code",
      "source": [
        "def grid_search(params, random=False): \n",
        "\n",
        "    xgb = XGBClassifier(booster='gbtree', objective='binary:logistic', \n",
        "                        random_state=2, verbosity=0, use_label_encoder=False)\n",
        "    \n",
        "    kfold = StratifiedKFold(n_splits=5, shuffle=True, random_state=2)\n",
        "    \n",
        "    if random:\n",
        "        grid = RandomizedSearchCV(xgb, params, cv=kfold, n_iter=20, \n",
        "                                  n_jobs=-1, random_state=2)\n",
        "    else:\n",
        "        grid = GridSearchCV(xgb, params, cv=kfold, n_jobs=-1)\n",
        "    \n",
        "    # X와 y에서 하이퍼파라미터 튜닝을 수행합니다.\n",
        "    grid.fit(X, y)\n",
        "\n",
        "    # 최상의 매개변수를 추출합니다.\n",
        "    best_params = grid.best_params_\n",
        "\n",
        "    # 최상의 매개변수를 출력합니다.\n",
        "    print(\"최상의 매개변수:\", best_params)\n",
        "    \n",
        "    # 최상의 점수를 추출합니다.\n",
        "    best_score = grid.best_score_\n",
        "\n",
        "    # 최상의 점수를 출력합니다.\n",
        "    print(\"최상의 점수: {:.5f}\".format(best_score))"
      ],
      "metadata": {
        "id": "7R2M6KAQLR94"
      },
      "execution_count": 14,
      "outputs": []
    },
    {
      "cell_type": "markdown",
      "source": [
        "#### Xgboost hyperparameter tuning"
      ],
      "metadata": {
        "id": "CLjIwpZWLUPH"
      }
    },
    {
      "cell_type": "markdown",
      "source": [
        "- n_estimators : 생성할 weak learner의 수\n",
        "    - learning_rate가 낮을 땐, n_estimators를 높여야 과적합이 방지"
      ],
      "metadata": {
        "id": "yFz3-krzLViA"
      }
    },
    {
      "cell_type": "code",
      "source": [
        "grid_search(params={'n_estimators':[100, 200, 400, 800]})"
      ],
      "metadata": {
        "colab": {
          "base_uri": "https://localhost:8080/"
        },
        "id": "ZOapNP2MLSwe",
        "outputId": "119db00c-a5f1-4672-a725-507b75cc5b06"
      },
      "execution_count": 15,
      "outputs": [
        {
          "output_type": "stream",
          "name": "stdout",
          "text": [
            "최상의 매개변수: {'n_estimators': 100}\n",
            "최상의 점수: 0.78235\n"
          ]
        }
      ]
    },
    {
      "cell_type": "markdown",
      "source": [
        "- learning_rate['기본값':0.3] (별칭 : eta)\n",
        "    - learning_rate값, learning_rate가 높을수록 과적합 하기 쉽다.-> 값을 줄이면 과대적합 방지"
      ],
      "metadata": {
        "id": "hDvvgmOaLYVw"
      }
    },
    {
      "cell_type": "code",
      "source": [
        "grid_search(params={'learning_rate':[0.01, 0.05, 0.1, 0.2, 0.3, 0.4, 0.5]})"
      ],
      "metadata": {
        "colab": {
          "base_uri": "https://localhost:8080/"
        },
        "id": "dvcGXPIQLWsD",
        "outputId": "893efb03-2905-43c6-c786-7a90d25a6b30"
      },
      "execution_count": 16,
      "outputs": [
        {
          "output_type": "stream",
          "name": "stdout",
          "text": [
            "최상의 매개변수: {'learning_rate': 0.05}\n",
            "최상의 점수: 0.79585\n"
          ]
        }
      ]
    },
    {
      "cell_type": "markdown",
      "source": [
        "- Max_depth\n",
        "    - 트리의 깊이 / 0은 tree_method='hist', grow_policy='Lossguide'일 때 선택할 수 있으며, 깊이에 제한이 없다는 의미.\n",
        "    - 값을 줄이면 과대적합을 방지."
      ],
      "metadata": {
        "id": "xmJwmEzbLbw3"
      }
    },
    {
      "cell_type": "code",
      "source": [
        "grid_search(params={'max_depth':[2, 3, 5, 6, 8]})"
      ],
      "metadata": {
        "colab": {
          "base_uri": "https://localhost:8080/"
        },
        "id": "nnLdjLgsLZnH",
        "outputId": "7c8c2b7d-834a-4d25-fabb-c8989b0b9580"
      },
      "execution_count": 17,
      "outputs": [
        {
          "output_type": "stream",
          "name": "stdout",
          "text": [
            "최상의 매개변수: {'max_depth': 2}\n",
            "최상의 점수: 0.79902\n"
          ]
        }
      ]
    },
    {
      "cell_type": "markdown",
      "source": [
        "- gamma (별칭 : min_split_loss)\n",
        "    - 값을 늘리면 과대적합을 방지\n",
        "    - 보통 10보다 작은 값을 설정."
      ],
      "metadata": {
        "id": "DCzK_iiLLeRA"
      }
    },
    {
      "cell_type": "code",
      "source": [
        "grid_search(params={'gamma':[0, 0.01, 0.1, 0.5, 1, 2]})"
      ],
      "metadata": {
        "colab": {
          "base_uri": "https://localhost:8080/"
        },
        "id": "QDIcCDDILc5l",
        "outputId": "ef4046fc-9bd7-4cd7-c1a1-eea8061cb104"
      },
      "execution_count": 18,
      "outputs": [
        {
          "output_type": "stream",
          "name": "stdout",
          "text": [
            "최상의 매개변수: {'gamma': 0.5}\n",
            "최상의 점수: 0.79574\n"
          ]
        }
      ]
    },
    {
      "cell_type": "markdown",
      "source": [
        "- min_child_weight\n",
        "    - 노드 분할을 위해 필요한 최소 가중치 합.\n",
        "    - 값을 늘리면 과대적합을 방지."
      ],
      "metadata": {
        "id": "F-DQqyx2LgyA"
      }
    },
    {
      "cell_type": "code",
      "source": [
        "grid_search(params={'min_child_weight':[1, 2, 3, 4, 5]})"
      ],
      "metadata": {
        "colab": {
          "base_uri": "https://localhost:8080/"
        },
        "id": "xd2akeikLgAu",
        "outputId": "1dda9adb-237e-4dde-f428-032bbcfd72fd"
      },
      "execution_count": 19,
      "outputs": [
        {
          "output_type": "stream",
          "name": "stdout",
          "text": [
            "최상의 매개변수: {'min_child_weight': 5}\n",
            "최상의 점수: 0.81219\n"
          ]
        }
      ]
    },
    {
      "cell_type": "markdown",
      "source": [
        "- subsample\n",
        "    - 부스팅 단계마다 사용할 훈련 샘플 개수의 비율\n",
        "    - 값을 줄이면 과대적합을 방지."
      ],
      "metadata": {
        "id": "sxxON1tgLkZ5"
      }
    },
    {
      "cell_type": "code",
      "source": [
        "grid_search(params={'subsample':[0.5, 0.7, 0.8, 0.9, 1]})"
      ],
      "metadata": {
        "colab": {
          "base_uri": "https://localhost:8080/"
        },
        "id": "1N6RIA3vLi9s",
        "outputId": "d1cf62a9-313b-476e-e2e6-75eb5bc6dc78"
      },
      "execution_count": 20,
      "outputs": [
        {
          "output_type": "stream",
          "name": "stdout",
          "text": [
            "최상의 매개변수: {'subsample': 0.8}\n",
            "최상의 점수: 0.79579\n"
          ]
        }
      ]
    },
    {
      "cell_type": "markdown",
      "source": [
        "- colsample_bytree\n",
        "    - 부스팅 단계마다 사용할 특성 개수의 비율\n",
        "    - 값을 줄이면 과대적합을 방지."
      ],
      "metadata": {
        "id": "PE7c4t_lLndg"
      }
    },
    {
      "cell_type": "code",
      "source": [
        "grid_search(params={'colsample_bytree':[0.5, 0.7, 0.8, 0.9, 1]})"
      ],
      "metadata": {
        "colab": {
          "base_uri": "https://localhost:8080/"
        },
        "id": "22gE1lPELllI",
        "outputId": "048a1aa9-0b55-4322-d18e-2276d492af7e"
      },
      "execution_count": 21,
      "outputs": [
        {
          "output_type": "stream",
          "name": "stdout",
          "text": [
            "최상의 매개변수: {'colsample_bytree': 0.5}\n",
            "최상의 점수: 0.80552\n"
          ]
        }
      ]
    },
    {
      "cell_type": "markdown",
      "source": [
        "- colsample_bylevel\n",
        "    - 트리 깊이마다 사용할 특성 개수의 비율\n",
        "    - 값을 줄이면 과대적합을 방지."
      ],
      "metadata": {
        "id": "5RIC5TSlLpwJ"
      }
    },
    {
      "cell_type": "markdown",
      "source": [
        "- colsample_bynode\n",
        "    - 각 노드의 분할에 사용할 특성 개수의 비율\n",
        "    - 값을 줄이면 과대적합을 방지."
      ],
      "metadata": {
        "id": "gUA9wSjxLtRo"
      }
    },
    {
      "cell_type": "markdown",
      "source": [
        "- scale_pos_weight\n",
        "    - 불균형한 데이터에서 사용함.\n",
        "    - sum(음성 샘플) / (양성 샘플) -> 데이터 불균형을 제어함."
      ],
      "metadata": {
        "id": "llLXxPTmLu3I"
      }
    },
    {
      "cell_type": "markdown",
      "source": [
        "- max_delta_step\n",
        "    - 불균형이 매우 심한 데이터셋에만 권장됨.\n",
        "\n",
        "- lambda\n",
        "    - 가중치 L2 규제\n",
        "    - 값을 늘리면 과대적합을 방지.\n",
        "- alpha\n",
        "    - 가중치 L1 규제\n",
        "    - 값을 늘리면 과대적합을 방지\n",
        "- missing\n",
        "    - 누락된 값을 -999.0과 같은 수치로 대입함.\n",
        "    - 누락된 값을 자동으로 처리해줌."
      ],
      "metadata": {
        "id": "4BaCIvEeLwbZ"
      }
    },
    {
      "cell_type": "markdown",
      "source": [
        "- 조기 종료 적용\n",
        "    - 반복적인 머신러닝 알고리즘의 훈련 횟수를 제한함.\n",
        "    - 사전에 정한 훈련 반복 횟수를 채우지 않더라도 연속적인 n번의 반복횟수 동안 모델이 향상되지 않으면 훈련을 중지함.  n은 사용자가 정함.\n",
        "    - 조기 종료에서 모델이 실패할 시간을 충분히 주는 것이 중요함.\n",
        "    - early_stopping_rounds=10 이면 연속적적으로 10번의 훈련 반복 동안 점수가 향상되지 않으면 훈련을 멈춤.\n",
        "\n",
        "- eval_set과 eval_metric\n",
        "    - 일반적으로 분류는 'error', 회귀는 'rmse'임."
      ],
      "metadata": {
        "id": "tALZeInnLx_B"
      }
    },
    {
      "cell_type": "code",
      "source": [
        "# train_test_split 함수를 임포트합니다.\n",
        "from sklearn.model_selection import train_test_split\n",
        "\n",
        "# 훈련 세트와 테스트 세트로 나눕니다.\n",
        "X_train, X_test, y_train, y_test = train_test_split(X, y, random_state=2)"
      ],
      "metadata": {
        "id": "Z4JqfhvHLpTK"
      },
      "execution_count": 22,
      "outputs": []
    },
    {
      "cell_type": "code",
      "source": [
        "model = XGBClassifier(booster='gbtree', objective='binary:logistic')\n",
        "eval_set = [(X_test, y_test)]\n",
        "eval_metric='error'\n",
        "model.fit(X_train, y_train, eval_metric=eval_metric, \n",
        "          eval_set=eval_set)\n",
        "\n",
        "# 테스트 세트에 대한 예측을 만듭니다.\n",
        "y_pred = model.predict(X_test)\n",
        "# 예측을 평가합니다.\n",
        "accuracy = accuracy_score(y_test, y_pred)\n",
        "print(\"정확도: %.2f%%\" % (accuracy * 100.0))"
      ],
      "metadata": {
        "colab": {
          "base_uri": "https://localhost:8080/"
        },
        "id": "J5WwMVoRLzgm",
        "outputId": "3531fe7e-2a37-436d-8fd9-544285030f30"
      },
      "execution_count": 23,
      "outputs": [
        {
          "output_type": "stream",
          "name": "stdout",
          "text": [
            "[0]\tvalidation_0-error:0.15789\n",
            "[1]\tvalidation_0-error:0.10526\n",
            "[2]\tvalidation_0-error:0.11842\n",
            "[3]\tvalidation_0-error:0.13158\n",
            "[4]\tvalidation_0-error:0.11842\n",
            "[5]\tvalidation_0-error:0.14474\n",
            "[6]\tvalidation_0-error:0.14474\n",
            "[7]\tvalidation_0-error:0.14474\n",
            "[8]\tvalidation_0-error:0.14474\n",
            "[9]\tvalidation_0-error:0.14474\n",
            "[10]\tvalidation_0-error:0.14474\n",
            "[11]\tvalidation_0-error:0.15789\n",
            "[12]\tvalidation_0-error:0.15789\n",
            "[13]\tvalidation_0-error:0.17105\n",
            "[14]\tvalidation_0-error:0.17105\n",
            "[15]\tvalidation_0-error:0.17105\n",
            "[16]\tvalidation_0-error:0.15789\n",
            "[17]\tvalidation_0-error:0.17105\n",
            "[18]\tvalidation_0-error:0.15789\n",
            "[19]\tvalidation_0-error:0.17105\n",
            "[20]\tvalidation_0-error:0.17105\n",
            "[21]\tvalidation_0-error:0.17105\n",
            "[22]\tvalidation_0-error:0.18421\n",
            "[23]\tvalidation_0-error:0.18421\n",
            "[24]\tvalidation_0-error:0.17105\n",
            "[25]\tvalidation_0-error:0.18421\n",
            "[26]\tvalidation_0-error:0.18421\n",
            "[27]\tvalidation_0-error:0.18421\n",
            "[28]\tvalidation_0-error:0.18421\n",
            "[29]\tvalidation_0-error:0.18421\n",
            "[30]\tvalidation_0-error:0.18421\n",
            "[31]\tvalidation_0-error:0.18421\n",
            "[32]\tvalidation_0-error:0.18421\n",
            "[33]\tvalidation_0-error:0.18421\n",
            "[34]\tvalidation_0-error:0.18421\n",
            "[35]\tvalidation_0-error:0.18421\n",
            "[36]\tvalidation_0-error:0.18421\n",
            "[37]\tvalidation_0-error:0.18421\n",
            "[38]\tvalidation_0-error:0.18421\n",
            "[39]\tvalidation_0-error:0.18421\n",
            "[40]\tvalidation_0-error:0.18421\n",
            "[41]\tvalidation_0-error:0.18421\n",
            "[42]\tvalidation_0-error:0.18421\n",
            "[43]\tvalidation_0-error:0.17105\n",
            "[44]\tvalidation_0-error:0.18421\n",
            "[45]\tvalidation_0-error:0.17105\n",
            "[46]\tvalidation_0-error:0.18421\n",
            "[47]\tvalidation_0-error:0.18421\n",
            "[48]\tvalidation_0-error:0.17105\n",
            "[49]\tvalidation_0-error:0.15789\n",
            "[50]\tvalidation_0-error:0.17105\n",
            "[51]\tvalidation_0-error:0.17105\n",
            "[52]\tvalidation_0-error:0.15789\n",
            "[53]\tvalidation_0-error:0.17105\n",
            "[54]\tvalidation_0-error:0.17105\n",
            "[55]\tvalidation_0-error:0.17105\n",
            "[56]\tvalidation_0-error:0.17105\n",
            "[57]\tvalidation_0-error:0.17105\n",
            "[58]\tvalidation_0-error:0.17105\n",
            "[59]\tvalidation_0-error:0.17105\n",
            "[60]\tvalidation_0-error:0.17105\n",
            "[61]\tvalidation_0-error:0.17105\n",
            "[62]\tvalidation_0-error:0.17105\n",
            "[63]\tvalidation_0-error:0.17105\n",
            "[64]\tvalidation_0-error:0.17105\n",
            "[65]\tvalidation_0-error:0.17105\n",
            "[66]\tvalidation_0-error:0.18421\n",
            "[67]\tvalidation_0-error:0.18421\n",
            "[68]\tvalidation_0-error:0.18421\n",
            "[69]\tvalidation_0-error:0.18421\n",
            "[70]\tvalidation_0-error:0.18421\n",
            "[71]\tvalidation_0-error:0.18421\n",
            "[72]\tvalidation_0-error:0.18421\n",
            "[73]\tvalidation_0-error:0.18421\n",
            "[74]\tvalidation_0-error:0.17105\n",
            "[75]\tvalidation_0-error:0.18421\n",
            "[76]\tvalidation_0-error:0.17105\n",
            "[77]\tvalidation_0-error:0.18421\n",
            "[78]\tvalidation_0-error:0.15789\n",
            "[79]\tvalidation_0-error:0.17105\n",
            "[80]\tvalidation_0-error:0.15789\n",
            "[81]\tvalidation_0-error:0.15789\n",
            "[82]\tvalidation_0-error:0.15789\n",
            "[83]\tvalidation_0-error:0.15789\n",
            "[84]\tvalidation_0-error:0.15789\n",
            "[85]\tvalidation_0-error:0.15789\n",
            "[86]\tvalidation_0-error:0.15789\n",
            "[87]\tvalidation_0-error:0.15789\n",
            "[88]\tvalidation_0-error:0.15789\n",
            "[89]\tvalidation_0-error:0.15789\n",
            "[90]\tvalidation_0-error:0.15789\n",
            "[91]\tvalidation_0-error:0.15789\n",
            "[92]\tvalidation_0-error:0.15789\n",
            "[93]\tvalidation_0-error:0.17105\n",
            "[94]\tvalidation_0-error:0.17105\n",
            "[95]\tvalidation_0-error:0.17105\n",
            "[96]\tvalidation_0-error:0.17105\n",
            "[97]\tvalidation_0-error:0.17105\n",
            "[98]\tvalidation_0-error:0.17105\n",
            "[99]\tvalidation_0-error:0.17105\n",
            "정확도: 82.89%\n"
          ]
        }
      ]
    },
    {
      "cell_type": "markdown",
      "source": [
        "- early_stopping_rounds"
      ],
      "metadata": {
        "id": "eijobOUXL2YK"
      }
    },
    {
      "cell_type": "code",
      "source": [
        "model = XGBClassifier(booster='gbtree', objective='binary:logistic')\n",
        "eval_set = [(X_test, y_test)]\n",
        "eval_metric=\"error\"\n",
        "model.fit(X_train, y_train, eval_metric=eval_metric, eval_set=eval_set, \n",
        "          early_stopping_rounds=10, verbose=True)\n",
        "y_pred = model.predict(X_test)\n",
        "accuracy = accuracy_score(y_test, y_pred)\n",
        "print(\"정확도: %.2f%%\" % (accuracy * 100.0))"
      ],
      "metadata": {
        "colab": {
          "base_uri": "https://localhost:8080/"
        },
        "id": "4wM_SNrtL0YE",
        "outputId": "b435defc-b7df-46e1-e67b-8946eb04195e"
      },
      "execution_count": 24,
      "outputs": [
        {
          "output_type": "stream",
          "name": "stdout",
          "text": [
            "[0]\tvalidation_0-error:0.15789\n",
            "[1]\tvalidation_0-error:0.10526\n",
            "[2]\tvalidation_0-error:0.11842\n",
            "[3]\tvalidation_0-error:0.13158\n",
            "[4]\tvalidation_0-error:0.11842\n",
            "[5]\tvalidation_0-error:0.14474\n",
            "[6]\tvalidation_0-error:0.14474\n",
            "[7]\tvalidation_0-error:0.14474\n",
            "[8]\tvalidation_0-error:0.14474\n",
            "[9]\tvalidation_0-error:0.14474\n",
            "[10]\tvalidation_0-error:0.14474\n",
            "[11]\tvalidation_0-error:0.15789\n",
            "정확도: 89.47%\n"
          ]
        }
      ]
    },
    {
      "cell_type": "code",
      "source": [
        "model = XGBClassifier(n_estimators=5000)\n",
        "eval_set = [(X_test, y_test)]\n",
        "eval_metric=\"error\"\n",
        "model.fit(X_train, y_train, eval_metric=eval_metric, eval_set=eval_set, \n",
        "          early_stopping_rounds=100)\n",
        "y_pred = model.predict(X_test)\n",
        "accuracy = accuracy_score(y_test, y_pred)\n",
        "print(\"정확도: %.2f%%\" % (accuracy * 100.0))"
      ],
      "metadata": {
        "colab": {
          "base_uri": "https://localhost:8080/"
        },
        "id": "vSZS9aHgL3q2",
        "outputId": "5371dcf4-bbc3-40f7-8531-f5b013a8f738"
      },
      "execution_count": 25,
      "outputs": [
        {
          "output_type": "stream",
          "name": "stdout",
          "text": [
            "[0]\tvalidation_0-error:0.15789\n",
            "[1]\tvalidation_0-error:0.10526\n",
            "[2]\tvalidation_0-error:0.11842\n",
            "[3]\tvalidation_0-error:0.13158\n",
            "[4]\tvalidation_0-error:0.11842\n",
            "[5]\tvalidation_0-error:0.14474\n",
            "[6]\tvalidation_0-error:0.14474\n",
            "[7]\tvalidation_0-error:0.14474\n",
            "[8]\tvalidation_0-error:0.14474\n",
            "[9]\tvalidation_0-error:0.14474\n",
            "[10]\tvalidation_0-error:0.14474\n",
            "[11]\tvalidation_0-error:0.15789\n",
            "[12]\tvalidation_0-error:0.15789\n",
            "[13]\tvalidation_0-error:0.17105\n",
            "[14]\tvalidation_0-error:0.17105\n",
            "[15]\tvalidation_0-error:0.17105\n",
            "[16]\tvalidation_0-error:0.15789\n",
            "[17]\tvalidation_0-error:0.17105\n",
            "[18]\tvalidation_0-error:0.15789\n",
            "[19]\tvalidation_0-error:0.17105\n",
            "[20]\tvalidation_0-error:0.17105\n",
            "[21]\tvalidation_0-error:0.17105\n",
            "[22]\tvalidation_0-error:0.18421\n",
            "[23]\tvalidation_0-error:0.18421\n",
            "[24]\tvalidation_0-error:0.17105\n",
            "[25]\tvalidation_0-error:0.18421\n",
            "[26]\tvalidation_0-error:0.18421\n",
            "[27]\tvalidation_0-error:0.18421\n",
            "[28]\tvalidation_0-error:0.18421\n",
            "[29]\tvalidation_0-error:0.18421\n",
            "[30]\tvalidation_0-error:0.18421\n",
            "[31]\tvalidation_0-error:0.18421\n",
            "[32]\tvalidation_0-error:0.18421\n",
            "[33]\tvalidation_0-error:0.18421\n",
            "[34]\tvalidation_0-error:0.18421\n",
            "[35]\tvalidation_0-error:0.18421\n",
            "[36]\tvalidation_0-error:0.18421\n",
            "[37]\tvalidation_0-error:0.18421\n",
            "[38]\tvalidation_0-error:0.18421\n",
            "[39]\tvalidation_0-error:0.18421\n",
            "[40]\tvalidation_0-error:0.18421\n",
            "[41]\tvalidation_0-error:0.18421\n",
            "[42]\tvalidation_0-error:0.18421\n",
            "[43]\tvalidation_0-error:0.17105\n",
            "[44]\tvalidation_0-error:0.18421\n",
            "[45]\tvalidation_0-error:0.17105\n",
            "[46]\tvalidation_0-error:0.18421\n",
            "[47]\tvalidation_0-error:0.18421\n",
            "[48]\tvalidation_0-error:0.17105\n",
            "[49]\tvalidation_0-error:0.15789\n",
            "[50]\tvalidation_0-error:0.17105\n",
            "[51]\tvalidation_0-error:0.17105\n",
            "[52]\tvalidation_0-error:0.15789\n",
            "[53]\tvalidation_0-error:0.17105\n",
            "[54]\tvalidation_0-error:0.17105\n",
            "[55]\tvalidation_0-error:0.17105\n",
            "[56]\tvalidation_0-error:0.17105\n",
            "[57]\tvalidation_0-error:0.17105\n",
            "[58]\tvalidation_0-error:0.17105\n",
            "[59]\tvalidation_0-error:0.17105\n",
            "[60]\tvalidation_0-error:0.17105\n",
            "[61]\tvalidation_0-error:0.17105\n",
            "[62]\tvalidation_0-error:0.17105\n",
            "[63]\tvalidation_0-error:0.17105\n",
            "[64]\tvalidation_0-error:0.17105\n",
            "[65]\tvalidation_0-error:0.17105\n",
            "[66]\tvalidation_0-error:0.18421\n",
            "[67]\tvalidation_0-error:0.18421\n",
            "[68]\tvalidation_0-error:0.18421\n",
            "[69]\tvalidation_0-error:0.18421\n",
            "[70]\tvalidation_0-error:0.18421\n",
            "[71]\tvalidation_0-error:0.18421\n",
            "[72]\tvalidation_0-error:0.18421\n",
            "[73]\tvalidation_0-error:0.18421\n",
            "[74]\tvalidation_0-error:0.17105\n",
            "[75]\tvalidation_0-error:0.18421\n",
            "[76]\tvalidation_0-error:0.17105\n",
            "[77]\tvalidation_0-error:0.18421\n",
            "[78]\tvalidation_0-error:0.15789\n",
            "[79]\tvalidation_0-error:0.17105\n",
            "[80]\tvalidation_0-error:0.15789\n",
            "[81]\tvalidation_0-error:0.15789\n",
            "[82]\tvalidation_0-error:0.15789\n",
            "[83]\tvalidation_0-error:0.15789\n",
            "[84]\tvalidation_0-error:0.15789\n",
            "[85]\tvalidation_0-error:0.15789\n",
            "[86]\tvalidation_0-error:0.15789\n",
            "[87]\tvalidation_0-error:0.15789\n",
            "[88]\tvalidation_0-error:0.15789\n",
            "[89]\tvalidation_0-error:0.15789\n",
            "[90]\tvalidation_0-error:0.15789\n",
            "[91]\tvalidation_0-error:0.15789\n",
            "[92]\tvalidation_0-error:0.15789\n",
            "[93]\tvalidation_0-error:0.17105\n",
            "[94]\tvalidation_0-error:0.17105\n",
            "[95]\tvalidation_0-error:0.17105\n",
            "[96]\tvalidation_0-error:0.17105\n",
            "[97]\tvalidation_0-error:0.17105\n",
            "[98]\tvalidation_0-error:0.17105\n",
            "[99]\tvalidation_0-error:0.17105\n",
            "[100]\tvalidation_0-error:0.17105\n",
            "[101]\tvalidation_0-error:0.17105\n",
            "정확도: 89.47%\n"
          ]
        }
      ]
    },
    {
      "cell_type": "markdown",
      "source": [
        "- 하이퍼 파라미터의 결합.\n",
        "    - 하나씩 하이퍼 파라미터 조사하기."
      ],
      "metadata": {
        "id": "hkIeZ1_SL7CB"
      }
    },
    {
      "cell_type": "markdown",
      "source": [
        "- n_estimators"
      ],
      "metadata": {
        "id": "oZ5FBruML-3h"
      }
    },
    {
      "cell_type": "code",
      "source": [
        "grid_search(params={'n_estimators':[2, 25, 50, 75, 100]})"
      ],
      "metadata": {
        "colab": {
          "base_uri": "https://localhost:8080/"
        },
        "id": "2GtY5cfaL8ww",
        "outputId": "ad4205d6-dbe2-47eb-86d3-b0a7e9f13380"
      },
      "execution_count": 27,
      "outputs": [
        {
          "output_type": "stream",
          "name": "stdout",
          "text": [
            "최상의 매개변수: {'n_estimators': 50}\n",
            "최상의 점수: 0.78907\n"
          ]
        }
      ]
    },
    {
      "cell_type": "markdown",
      "source": [
        "- max_depth"
      ],
      "metadata": {
        "id": "6jtm8mFDMBJJ"
      }
    },
    {
      "cell_type": "code",
      "source": [
        "grid_search(params={'max_depth':[1, 2, 3, 4, 6, 7, 8], \n",
        "                    'n_estimators':[50]})"
      ],
      "metadata": {
        "colab": {
          "base_uri": "https://localhost:8080/"
        },
        "id": "iF8gweW-L9ug",
        "outputId": "ba0b0dc0-2884-490e-df62-0d04b932b3ce"
      },
      "execution_count": 28,
      "outputs": [
        {
          "output_type": "stream",
          "name": "stdout",
          "text": [
            "최상의 매개변수: {'max_depth': 1, 'n_estimators': 50}\n",
            "최상의 점수: 0.83869\n"
          ]
        }
      ]
    },
    {
      "cell_type": "code",
      "source": [
        "grid_search(params={'max_depth':[1, 2, 3, 4, 6, 7, 8], \n",
        "                    'n_estimators':[2, 50, 100]})"
      ],
      "metadata": {
        "colab": {
          "base_uri": "https://localhost:8080/"
        },
        "id": "-EjwMyhIMCuF",
        "outputId": "ac6e5f1b-1c49-4b24-9cac-562b96c9b3f6"
      },
      "execution_count": 29,
      "outputs": [
        {
          "output_type": "stream",
          "name": "stdout",
          "text": [
            "최상의 매개변수: {'max_depth': 1, 'n_estimators': 50}\n",
            "최상의 점수: 0.83869\n"
          ]
        }
      ]
    },
    {
      "cell_type": "markdown",
      "source": [
        "- learning_rate"
      ],
      "metadata": {
        "id": "cdleHfypMFHs"
      }
    },
    {
      "cell_type": "code",
      "source": [
        "grid_search(params={'learning_rate':[0.01, 0.05, 0.1, 0.2, 0.3, 0.4, 0.5], \n",
        "                    'max_depth':[1], 'n_estimators':[50]})"
      ],
      "metadata": {
        "colab": {
          "base_uri": "https://localhost:8080/"
        },
        "id": "Sp0igG9nMDlV",
        "outputId": "f1ccdfa9-73ee-4f7f-d628-d47879b1b2ad"
      },
      "execution_count": 30,
      "outputs": [
        {
          "output_type": "stream",
          "name": "stdout",
          "text": [
            "최상의 매개변수: {'learning_rate': 0.3, 'max_depth': 1, 'n_estimators': 50}\n",
            "최상의 점수: 0.83869\n"
          ]
        }
      ]
    },
    {
      "cell_type": "markdown",
      "source": [
        "- min_child_weight"
      ],
      "metadata": {
        "id": "eBKN-QLOMHyw"
      }
    },
    {
      "cell_type": "code",
      "source": [
        "grid_search(params={'min_child_weight':[1, 2, 3, 4, 5], \n",
        "                    'max_depth':[1], 'n_estimators':[50]})"
      ],
      "metadata": {
        "colab": {
          "base_uri": "https://localhost:8080/"
        },
        "id": "AgUtpESCMGZz",
        "outputId": "369453ad-c23e-4727-d172-28e2ee330300"
      },
      "execution_count": 31,
      "outputs": [
        {
          "output_type": "stream",
          "name": "stdout",
          "text": [
            "최상의 매개변수: {'max_depth': 1, 'min_child_weight': 1, 'n_estimators': 50}\n",
            "최상의 점수: 0.83869\n"
          ]
        }
      ]
    },
    {
      "cell_type": "markdown",
      "source": [
        "- subsample"
      ],
      "metadata": {
        "id": "dug-aYA4MKA7"
      }
    },
    {
      "cell_type": "code",
      "source": [
        "grid_search(params={'subsample':[0.5, 0.6, 0.7, 0.8, 0.9, 1],\n",
        "                    'max_depth':[1], 'n_estimators':[50]})"
      ],
      "metadata": {
        "colab": {
          "base_uri": "https://localhost:8080/"
        },
        "id": "KaC7mgc5MIxN",
        "outputId": "8229edaa-bbde-4694-f20b-b272344781a1"
      },
      "execution_count": 32,
      "outputs": [
        {
          "output_type": "stream",
          "name": "stdout",
          "text": [
            "최상의 매개변수: {'max_depth': 1, 'n_estimators': 50, 'subsample': 1}\n",
            "최상의 점수: 0.83869\n"
          ]
        }
      ]
    },
    {
      "cell_type": "code",
      "source": [
        "grid_search(params={'subsample':[0.5, 0.6, 0.7, 0.8, 0.9, 1], \n",
        "                    'min_child_weight':[1, 2, 3, 4, 5], \n",
        "                    'learning_rate':[0.1, 0.2, 0.3, 0.4, 0.5], \n",
        "                    'max_depth':[1, 2, 3, 4, 5], \n",
        "                    'n_estimators':[2]})"
      ],
      "metadata": {
        "colab": {
          "base_uri": "https://localhost:8080/"
        },
        "id": "88N26WIeMK9E",
        "outputId": "fff218fc-49bd-40fd-eb0f-25059574fa91"
      },
      "execution_count": 33,
      "outputs": [
        {
          "output_type": "stream",
          "name": "stdout",
          "text": [
            "최상의 매개변수: {'learning_rate': 0.5, 'max_depth': 2, 'min_child_weight': 4, 'n_estimators': 2, 'subsample': 0.9}\n",
            "최상의 점수: 0.81224\n"
          ]
        }
      ]
    },
    {
      "cell_type": "markdown",
      "source": [
        "- 하이퍼 파라미터 조정"
      ],
      "metadata": {
        "id": "sDkV1KhfMM_j"
      }
    },
    {
      "cell_type": "code",
      "source": [
        "grid_search(params={'subsample':[0.5, 0.6, 0.7, 0.8, 0.9, 1], \n",
        "                    'min_child_weight':[1, 2, 3, 4, 5], \n",
        "                    'learning_rate':[0.1, 0.2, 0.3, 0.4, 0.5], \n",
        "                    'max_depth':[1, 2, 3, 4, 5, None], \n",
        "                    'n_estimators':[2, 25, 50, 75, 100]}, random=True)"
      ],
      "metadata": {
        "colab": {
          "base_uri": "https://localhost:8080/"
        },
        "id": "14YczPpcML7L",
        "outputId": "ef2a09e5-07b7-4a94-eaad-41eb01d93696"
      },
      "execution_count": 34,
      "outputs": [
        {
          "output_type": "stream",
          "name": "stdout",
          "text": [
            "최상의 매개변수: {'subsample': 0.6, 'n_estimators': 25, 'min_child_weight': 4, 'max_depth': 4, 'learning_rate': 0.5}\n",
            "최상의 점수: 0.82208\n"
          ]
        }
      ]
    },
    {
      "cell_type": "markdown",
      "source": [
        "- colsample"
      ],
      "metadata": {
        "id": "XA2iGR2tMTtm"
      }
    },
    {
      "cell_type": "markdown",
      "source": [
        "- colsample_bytree"
      ],
      "metadata": {
        "id": "4YVo7CdUMVnc"
      }
    },
    {
      "cell_type": "code",
      "source": [
        "grid_search(params={'colsample_bytree':[0.5, 0.6, 0.7, 0.8, 0.9, 1],\n",
        "                    'max_depth':[1], 'n_estimators':[50]})"
      ],
      "metadata": {
        "colab": {
          "base_uri": "https://localhost:8080/"
        },
        "id": "EsDc_u-5MOVK",
        "outputId": "1b25ac93-6d98-4bcf-b11f-f692ba2ab34d"
      },
      "execution_count": 35,
      "outputs": [
        {
          "output_type": "stream",
          "name": "stdout",
          "text": [
            "최상의 매개변수: {'colsample_bytree': 1, 'max_depth': 1, 'n_estimators': 50}\n",
            "최상의 점수: 0.83869\n"
          ]
        }
      ]
    },
    {
      "cell_type": "markdown",
      "source": [
        "- colsample_bylevel"
      ],
      "metadata": {
        "id": "BcKYU56iMXrE"
      }
    },
    {
      "cell_type": "code",
      "source": [
        "grid_search(params={'colsample_bylevel':[0.5, 0.6, 0.7, 0.8, 0.9, 1],\n",
        "                    'max_depth':[1], 'n_estimators':[50]})"
      ],
      "metadata": {
        "colab": {
          "base_uri": "https://localhost:8080/"
        },
        "id": "MrEXqKjcMWkE",
        "outputId": "5bab99a2-4151-43dc-9ff2-53980931d67d"
      },
      "execution_count": 36,
      "outputs": [
        {
          "output_type": "stream",
          "name": "stdout",
          "text": [
            "최상의 매개변수: {'colsample_bylevel': 1, 'max_depth': 1, 'n_estimators': 50}\n",
            "최상의 점수: 0.83869\n"
          ]
        }
      ]
    },
    {
      "cell_type": "markdown",
      "source": [
        "- colsample_bynode"
      ],
      "metadata": {
        "id": "FRZ5Xd7YMaSu"
      }
    },
    {
      "cell_type": "code",
      "source": [
        "grid_search(params={'colsample_bynode':[0.5, 0.6, 0.7, 0.8, 0.9, 1], \n",
        "                    'colsample_bylevel':[0.5, 0.6, 0.7, 0.8, 0.9, 1], \n",
        "                    'colsample_bytree':[0.5, 0.6, 0.7, 0.8, 0.9, 1], \n",
        "                    'max_depth':[1], 'n_estimators':[50]})"
      ],
      "metadata": {
        "colab": {
          "base_uri": "https://localhost:8080/"
        },
        "id": "5vWVrb0HMYqb",
        "outputId": "f0bfa356-db00-45e8-b198-a7b4e724ac40"
      },
      "execution_count": 37,
      "outputs": [
        {
          "output_type": "stream",
          "name": "stdout",
          "text": [
            "최상의 매개변수: {'colsample_bylevel': 0.6, 'colsample_bynode': 0.7, 'colsample_bytree': 0.8, 'max_depth': 1, 'n_estimators': 50}\n",
            "최상의 점수: 0.84852\n"
          ]
        }
      ]
    },
    {
      "cell_type": "markdown",
      "source": [
        "- gamma"
      ],
      "metadata": {
        "id": "g5GuSqABMcwe"
      }
    },
    {
      "cell_type": "code",
      "source": [
        "grid_search(params={'gamma':[0, 0.01, 0.05, 0.1, 0.5, 1, 2, 3], \n",
        "                    'colsample_bylevel':[0.9], \n",
        "                    'colsample_bytree':[0.8], \n",
        "                    'colsample_bynode':[0.5], \n",
        "                    'max_depth':[1], 'n_estimators':[50]})"
      ],
      "metadata": {
        "colab": {
          "base_uri": "https://localhost:8080/"
        },
        "id": "Hu7aOCoAMbv8",
        "outputId": "d0594bef-a4aa-4985-e1c3-b149c973cdf9"
      },
      "execution_count": 38,
      "outputs": [
        {
          "output_type": "stream",
          "name": "stdout",
          "text": [
            "최상의 매개변수: {'colsample_bylevel': 0.9, 'colsample_bynode': 0.5, 'colsample_bytree': 0.8, 'gamma': 0, 'max_depth': 1, 'n_estimators': 50}\n",
            "최상의 점수: 0.83536\n"
          ]
        }
      ]
    },
    {
      "cell_type": "code",
      "source": [],
      "metadata": {
        "id": "E6JEncs7MdvV"
      },
      "execution_count": null,
      "outputs": []
    }
  ]
}