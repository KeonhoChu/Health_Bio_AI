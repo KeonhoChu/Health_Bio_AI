{
  "nbformat": 4,
  "nbformat_minor": 0,
  "metadata": {
    "colab": {
      "provenance": [],
      "mount_file_id": "1wuatAoQIS3B7GWfVYs6q7DQ8XJn2cGw4",
      "authorship_tag": "ABX9TyMNmUyZRVYwfUwmE5DjWrgb",
      "include_colab_link": true
    },
    "kernelspec": {
      "name": "python3",
      "display_name": "Python 3"
    },
    "language_info": {
      "name": "python"
    }
  },
  "cells": [
    {
      "cell_type": "markdown",
      "metadata": {
        "id": "view-in-github",
        "colab_type": "text"
      },
      "source": [
        "<a href=\"https://colab.research.google.com/github/KeonhoChu/Health_Bio_AI/blob/main/Heart_Attack_Analysis_%26_Prediction.ipynb\" target=\"_parent\"><img src=\"https://colab.research.google.com/assets/colab-badge.svg\" alt=\"Open In Colab\"/></a>"
      ]
    },
    {
      "cell_type": "code",
      "execution_count": null,
      "metadata": {
        "id": "G153Gi4BvF3b"
      },
      "outputs": [],
      "source": [
        "import numpy as np\n",
        "import pandas as pd\n",
        "import seaborn as sns\n",
        "import matplotlib.pyplot as plt\n",
        "import plotly.express as px\n",
        "%matplotlib inline\n",
        "import warnings\n",
        "warnings.filterwarnings('ignore')\n",
        "from sklearn.metrics import confusion_matrix, accuracy_score\n",
        "from yellowbrick.classifier import ROCAUC\n",
        "from sklearn.preprocessing import StandardScaler, MinMaxScaler"
      ]
    },
    {
      "cell_type": "code",
      "source": [
        "df = pd.read_csv('/content/drive/MyDrive/kaggle/Heart Attack Analysis & Prediction Dataset/heart.csv')\n"
      ],
      "metadata": {
        "id": "mf0gh6SHvM_M"
      },
      "execution_count": null,
      "outputs": []
    },
    {
      "cell_type": "code",
      "source": [
        "# Min-Max normalization\n",
        "cols = ['trtbps', 'chol', 'thalachh', 'oldpeak', 'age']\n",
        "for col in cols:\n",
        "    minimum = min(df[col])\n",
        "    maximum = max(df[col])\n",
        "    df[col] = (df[col] - minimum)/ (maximum - minimum)"
      ],
      "metadata": {
        "id": "h5YKoOQjzfqi"
      },
      "execution_count": null,
      "outputs": []
    },
    {
      "cell_type": "code",
      "source": [
        "df.head()"
      ],
      "metadata": {
        "colab": {
          "base_uri": "https://localhost:8080/",
          "height": 206
        },
        "id": "3u0y-36sCAfa",
        "outputId": "ea91e300-14d2-417e-c073-c903570c7029"
      },
      "execution_count": null,
      "outputs": [
        {
          "output_type": "execute_result",
          "data": {
            "text/plain": [
              "        age  sex  cp    trtbps      chol  fbs  restecg  thalachh  exng  \\\n",
              "0  0.708333    1   3  0.481132  0.244292    1        0  0.603053     0   \n",
              "1  0.166667    1   2  0.339623  0.283105    0        1  0.885496     0   \n",
              "2  0.250000    0   1  0.339623  0.178082    0        0  0.770992     0   \n",
              "3  0.562500    1   1  0.245283  0.251142    0        1  0.816794     0   \n",
              "4  0.583333    0   0  0.245283  0.520548    0        1  0.702290     1   \n",
              "\n",
              "    oldpeak  slp  caa  thall  output  \n",
              "0  0.370968    0    0      1       1  \n",
              "1  0.564516    0    0      2       1  \n",
              "2  0.225806    2    0      2       1  \n",
              "3  0.129032    2    0      2       1  \n",
              "4  0.096774    2    0      2       1  "
            ],
            "text/html": [
              "\n",
              "  <div id=\"df-66f4aed8-ba35-4792-a37f-102d3e8d35f2\">\n",
              "    <div class=\"colab-df-container\">\n",
              "      <div>\n",
              "<style scoped>\n",
              "    .dataframe tbody tr th:only-of-type {\n",
              "        vertical-align: middle;\n",
              "    }\n",
              "\n",
              "    .dataframe tbody tr th {\n",
              "        vertical-align: top;\n",
              "    }\n",
              "\n",
              "    .dataframe thead th {\n",
              "        text-align: right;\n",
              "    }\n",
              "</style>\n",
              "<table border=\"1\" class=\"dataframe\">\n",
              "  <thead>\n",
              "    <tr style=\"text-align: right;\">\n",
              "      <th></th>\n",
              "      <th>age</th>\n",
              "      <th>sex</th>\n",
              "      <th>cp</th>\n",
              "      <th>trtbps</th>\n",
              "      <th>chol</th>\n",
              "      <th>fbs</th>\n",
              "      <th>restecg</th>\n",
              "      <th>thalachh</th>\n",
              "      <th>exng</th>\n",
              "      <th>oldpeak</th>\n",
              "      <th>slp</th>\n",
              "      <th>caa</th>\n",
              "      <th>thall</th>\n",
              "      <th>output</th>\n",
              "    </tr>\n",
              "  </thead>\n",
              "  <tbody>\n",
              "    <tr>\n",
              "      <th>0</th>\n",
              "      <td>0.708333</td>\n",
              "      <td>1</td>\n",
              "      <td>3</td>\n",
              "      <td>0.481132</td>\n",
              "      <td>0.244292</td>\n",
              "      <td>1</td>\n",
              "      <td>0</td>\n",
              "      <td>0.603053</td>\n",
              "      <td>0</td>\n",
              "      <td>0.370968</td>\n",
              "      <td>0</td>\n",
              "      <td>0</td>\n",
              "      <td>1</td>\n",
              "      <td>1</td>\n",
              "    </tr>\n",
              "    <tr>\n",
              "      <th>1</th>\n",
              "      <td>0.166667</td>\n",
              "      <td>1</td>\n",
              "      <td>2</td>\n",
              "      <td>0.339623</td>\n",
              "      <td>0.283105</td>\n",
              "      <td>0</td>\n",
              "      <td>1</td>\n",
              "      <td>0.885496</td>\n",
              "      <td>0</td>\n",
              "      <td>0.564516</td>\n",
              "      <td>0</td>\n",
              "      <td>0</td>\n",
              "      <td>2</td>\n",
              "      <td>1</td>\n",
              "    </tr>\n",
              "    <tr>\n",
              "      <th>2</th>\n",
              "      <td>0.250000</td>\n",
              "      <td>0</td>\n",
              "      <td>1</td>\n",
              "      <td>0.339623</td>\n",
              "      <td>0.178082</td>\n",
              "      <td>0</td>\n",
              "      <td>0</td>\n",
              "      <td>0.770992</td>\n",
              "      <td>0</td>\n",
              "      <td>0.225806</td>\n",
              "      <td>2</td>\n",
              "      <td>0</td>\n",
              "      <td>2</td>\n",
              "      <td>1</td>\n",
              "    </tr>\n",
              "    <tr>\n",
              "      <th>3</th>\n",
              "      <td>0.562500</td>\n",
              "      <td>1</td>\n",
              "      <td>1</td>\n",
              "      <td>0.245283</td>\n",
              "      <td>0.251142</td>\n",
              "      <td>0</td>\n",
              "      <td>1</td>\n",
              "      <td>0.816794</td>\n",
              "      <td>0</td>\n",
              "      <td>0.129032</td>\n",
              "      <td>2</td>\n",
              "      <td>0</td>\n",
              "      <td>2</td>\n",
              "      <td>1</td>\n",
              "    </tr>\n",
              "    <tr>\n",
              "      <th>4</th>\n",
              "      <td>0.583333</td>\n",
              "      <td>0</td>\n",
              "      <td>0</td>\n",
              "      <td>0.245283</td>\n",
              "      <td>0.520548</td>\n",
              "      <td>0</td>\n",
              "      <td>1</td>\n",
              "      <td>0.702290</td>\n",
              "      <td>1</td>\n",
              "      <td>0.096774</td>\n",
              "      <td>2</td>\n",
              "      <td>0</td>\n",
              "      <td>2</td>\n",
              "      <td>1</td>\n",
              "    </tr>\n",
              "  </tbody>\n",
              "</table>\n",
              "</div>\n",
              "      <button class=\"colab-df-convert\" onclick=\"convertToInteractive('df-66f4aed8-ba35-4792-a37f-102d3e8d35f2')\"\n",
              "              title=\"Convert this dataframe to an interactive table.\"\n",
              "              style=\"display:none;\">\n",
              "        \n",
              "  <svg xmlns=\"http://www.w3.org/2000/svg\" height=\"24px\"viewBox=\"0 0 24 24\"\n",
              "       width=\"24px\">\n",
              "    <path d=\"M0 0h24v24H0V0z\" fill=\"none\"/>\n",
              "    <path d=\"M18.56 5.44l.94 2.06.94-2.06 2.06-.94-2.06-.94-.94-2.06-.94 2.06-2.06.94zm-11 1L8.5 8.5l.94-2.06 2.06-.94-2.06-.94L8.5 2.5l-.94 2.06-2.06.94zm10 10l.94 2.06.94-2.06 2.06-.94-2.06-.94-.94-2.06-.94 2.06-2.06.94z\"/><path d=\"M17.41 7.96l-1.37-1.37c-.4-.4-.92-.59-1.43-.59-.52 0-1.04.2-1.43.59L10.3 9.45l-7.72 7.72c-.78.78-.78 2.05 0 2.83L4 21.41c.39.39.9.59 1.41.59.51 0 1.02-.2 1.41-.59l7.78-7.78 2.81-2.81c.8-.78.8-2.07 0-2.86zM5.41 20L4 18.59l7.72-7.72 1.47 1.35L5.41 20z\"/>\n",
              "  </svg>\n",
              "      </button>\n",
              "      \n",
              "  <style>\n",
              "    .colab-df-container {\n",
              "      display:flex;\n",
              "      flex-wrap:wrap;\n",
              "      gap: 12px;\n",
              "    }\n",
              "\n",
              "    .colab-df-convert {\n",
              "      background-color: #E8F0FE;\n",
              "      border: none;\n",
              "      border-radius: 50%;\n",
              "      cursor: pointer;\n",
              "      display: none;\n",
              "      fill: #1967D2;\n",
              "      height: 32px;\n",
              "      padding: 0 0 0 0;\n",
              "      width: 32px;\n",
              "    }\n",
              "\n",
              "    .colab-df-convert:hover {\n",
              "      background-color: #E2EBFA;\n",
              "      box-shadow: 0px 1px 2px rgba(60, 64, 67, 0.3), 0px 1px 3px 1px rgba(60, 64, 67, 0.15);\n",
              "      fill: #174EA6;\n",
              "    }\n",
              "\n",
              "    [theme=dark] .colab-df-convert {\n",
              "      background-color: #3B4455;\n",
              "      fill: #D2E3FC;\n",
              "    }\n",
              "\n",
              "    [theme=dark] .colab-df-convert:hover {\n",
              "      background-color: #434B5C;\n",
              "      box-shadow: 0px 1px 3px 1px rgba(0, 0, 0, 0.15);\n",
              "      filter: drop-shadow(0px 1px 2px rgba(0, 0, 0, 0.3));\n",
              "      fill: #FFFFFF;\n",
              "    }\n",
              "  </style>\n",
              "\n",
              "      <script>\n",
              "        const buttonEl =\n",
              "          document.querySelector('#df-66f4aed8-ba35-4792-a37f-102d3e8d35f2 button.colab-df-convert');\n",
              "        buttonEl.style.display =\n",
              "          google.colab.kernel.accessAllowed ? 'block' : 'none';\n",
              "\n",
              "        async function convertToInteractive(key) {\n",
              "          const element = document.querySelector('#df-66f4aed8-ba35-4792-a37f-102d3e8d35f2');\n",
              "          const dataTable =\n",
              "            await google.colab.kernel.invokeFunction('convertToInteractive',\n",
              "                                                     [key], {});\n",
              "          if (!dataTable) return;\n",
              "\n",
              "          const docLinkHtml = 'Like what you see? Visit the ' +\n",
              "            '<a target=\"_blank\" href=https://colab.research.google.com/notebooks/data_table.ipynb>data table notebook</a>'\n",
              "            + ' to learn more about interactive tables.';\n",
              "          element.innerHTML = '';\n",
              "          dataTable['output_type'] = 'display_data';\n",
              "          await google.colab.output.renderOutput(dataTable, element);\n",
              "          const docLink = document.createElement('div');\n",
              "          docLink.innerHTML = docLinkHtml;\n",
              "          element.appendChild(docLink);\n",
              "        }\n",
              "      </script>\n",
              "    </div>\n",
              "  </div>\n",
              "  "
            ]
          },
          "metadata": {},
          "execution_count": 4
        }
      ]
    },
    {
      "cell_type": "code",
      "source": [
        "# print(df[[\"sex\", \"output\"]].groupby(['sex']).mean())\n",
        "# print(df[[\"cp\", \"output\"]].groupby(['cp']).mean())\n",
        "# print(df[[\"fbs\", \"output\"]].groupby(['fbs']).mean())\n",
        "# print (df[[\"exng\", \"output\"]].groupby(['exng']).mean())\n",
        "# print (df[[\"restecg\", \"output\"]].groupby(['restecg']).mean())\n",
        "# print (df[[\"slp\", \"output\"]].groupby(['slp']).mean())\n",
        "# print (df[[\"thall\", \"output\"]].groupby(['thall']).mean())\n",
        "# print (df[[\"caa\", \"output\"]].groupby(['caa']).mean())"
      ],
      "metadata": {
        "id": "HpEDOKNYzi2a"
      },
      "execution_count": null,
      "outputs": []
    },
    {
      "cell_type": "code",
      "source": [
        "X = df.drop(\"output\", axis=1)"
      ],
      "metadata": {
        "id": "i7zdYAixvN-i"
      },
      "execution_count": null,
      "outputs": []
    },
    {
      "cell_type": "code",
      "source": [
        "y = df['output']"
      ],
      "metadata": {
        "id": "uaI_qO1xvQgF"
      },
      "execution_count": null,
      "outputs": []
    },
    {
      "cell_type": "code",
      "source": [
        "from sklearn.model_selection import  train_test_split\n",
        "X_train, X_test, y_train, y_test = train_test_split(X, y,train_size=0.8,random_state=65)"
      ],
      "metadata": {
        "id": "e5Ve7F3tvRW6"
      },
      "execution_count": null,
      "outputs": []
    },
    {
      "cell_type": "markdown",
      "source": [
        "##XGBoost"
      ],
      "metadata": {
        "id": "UZPsB6LtvUcv"
      }
    },
    {
      "cell_type": "code",
      "source": [
        "from xgboost import XGBClassifier\n",
        "import xgboost as xgb\n",
        "from xgboost import plot_importance"
      ],
      "metadata": {
        "id": "ldodkIghvTLM"
      },
      "execution_count": null,
      "outputs": []
    },
    {
      "cell_type": "code",
      "source": [
        "#Train set\n",
        "model_xgb = XGBClassifier()\n",
        "model_xgb.fit(X_train, y_train)\n",
        "pred_xgb = model_xgb.predict(X_train)\n",
        "xgb = accuracy_score(y_train, pred_xgb)\n",
        "print(xgb)"
      ],
      "metadata": {
        "colab": {
          "base_uri": "https://localhost:8080/"
        },
        "id": "niTJ5DXnyYqv",
        "outputId": "eaf24b9b-5296-45a7-a6c5-8fa7430fe728"
      },
      "execution_count": null,
      "outputs": [
        {
          "output_type": "stream",
          "name": "stdout",
          "text": [
            "1.0\n"
          ]
        }
      ]
    },
    {
      "cell_type": "code",
      "source": [
        "#Test set\n",
        "model_xgb = XGBClassifier()\n",
        "model_xgb.fit(X_train, y_train)\n",
        "pred_xgb = model_xgb.predict(X_test)\n",
        "xgb = accuracy_score(y_test, pred_xgb)\n",
        "print(xgb)"
      ],
      "metadata": {
        "colab": {
          "base_uri": "https://localhost:8080/"
        },
        "id": "VzkSsclTvWGK",
        "outputId": "9bec573c-db3d-4984-8e18-777c2c0d66f4"
      },
      "execution_count": null,
      "outputs": [
        {
          "output_type": "stream",
          "name": "stdout",
          "text": [
            "0.8524590163934426\n"
          ]
        }
      ]
    },
    {
      "cell_type": "code",
      "source": [
        "cm_xgb = confusion_matrix(y_test, pred_xgb)\n",
        "sns.heatmap(cm_xgb/np.sum(cm_xgb), annot = True, fmt=  '0.2%', cmap = 'Reds')"
      ],
      "metadata": {
        "colab": {
          "base_uri": "https://localhost:8080/",
          "height": 503
        },
        "id": "e-N_ncgPvXTy",
        "outputId": "01c8a031-73ed-457a-bb2a-0e0e3b211cae"
      },
      "execution_count": null,
      "outputs": [
        {
          "output_type": "execute_result",
          "data": {
            "text/plain": [
              "<Axes: >"
            ]
          },
          "metadata": {},
          "execution_count": 12
        },
        {
          "output_type": "display_data",
          "data": {
            "text/plain": [
              "<Figure size 800x550 with 2 Axes>"
            ],
            "image/png": "[encoded data removed]"
          },
          "metadata": {}
        }
      ]
    },
    {
      "cell_type": "code",
      "source": [
        "fig,ax= plt.subplots(figsize=(10,10))\n",
        "roc_viz= ROCAUC(model_xgb,micro=False,macro=False, classes=[\"0\", \"1\"])\n",
        "roc_viz.fit(X_train,y_train)\n",
        "roc_viz.score(X_test, y_test)\n",
        "roc_viz.show()"
      ],
      "metadata": {
        "colab": {
          "base_uri": "https://localhost:8080/",
          "height": 889
        },
        "id": "vaoZ4qH7vd5L",
        "outputId": "9b71b0cb-c259-45dc-fdc3-8f205be386a8"
      },
      "execution_count": null,
      "outputs": [
        {
          "output_type": "display_data",
          "data": {
            "text/plain": [
              "<Figure size 1000x1000 with 1 Axes>"
            ],
            "image/png": "[encoded data removed]"
          },
          "metadata": {}
        },
        {
          "output_type": "execute_result",
          "data": {
            "text/plain": [
              "<Axes: title={'center': 'ROC Curves for XGBClassifier'}, xlabel='False Positive Rate', ylabel='True Positive Rate'>"
            ]
          },
          "metadata": {},
          "execution_count": 13
        }
      ]
    },
    {
      "cell_type": "code",
      "source": [
        "# feature importance 시각화\n",
        "plot_importance(model_xgb, height=0.8, max_num_features=10, xlabel=\"Importance\",\n",
        "                ylabel=\"Features\", title=\"Feature Importance\", show_values=False, importance_type='gain')"
      ],
      "metadata": {
        "colab": {
          "base_uri": "https://localhost:8080/",
          "height": 543
        },
        "id": "Jm1DQ6SDvfOI",
        "outputId": "c3996fa9-dfa1-4d57-8065-822b0d026685"
      },
      "execution_count": null,
      "outputs": [
        {
          "output_type": "execute_result",
          "data": {
            "text/plain": [
              "<Axes: title={'center': 'Feature Importance'}, xlabel='Importance', ylabel='Features'>"
            ]
          },
          "metadata": {},
          "execution_count": 14
        },
        {
          "output_type": "display_data",
          "data": {
            "text/plain": [
              "<Figure size 800x550 with 1 Axes>"
            ],
            "image/png": "[encoded data removed]"
          },
          "metadata": {}
        }
      ]
    },
    {
      "cell_type": "code",
      "source": [
        "# !pip install shap"
      ],
      "metadata": {
        "id": "UJVF6sAxvieL"
      },
      "execution_count": null,
      "outputs": []
    },
    {
      "cell_type": "code",
      "source": [
        "# #XGBoost Shap value\n",
        "\n",
        "# import shap\n",
        "\n",
        "# # SHAP explainer 생성\n",
        "# explainer = shap.Explainer(model_xgb)\n",
        "\n",
        "# # SHAP values 계산\n",
        "# shap_values = explainer(X_train)\n",
        "\n",
        "# # 모델 예측에 대한 SHAP 요약값 계산\n",
        "# shap.summary_plot(shap_values, X_train)\n",
        "\n",
        "# # 개별 샘플에 대한 SHAP 값 계산\n",
        "# shap_values_single = explainer(X_train.iloc[0:1])\n",
        "\n",
        "# # 개별 샘플에 대한 SHAP 값 시각화\n",
        "# shap.plots.waterfall(shap_values_single[0], max_display=10)"
      ],
      "metadata": {
        "id": "TWl30jonvmSq"
      },
      "execution_count": null,
      "outputs": []
    },
    {
      "cell_type": "code",
      "source": [],
      "metadata": {
        "id": "IY25laxwvney"
      },
      "execution_count": null,
      "outputs": []
    },
    {
      "cell_type": "markdown",
      "source": [
        "##Kneighbor"
      ],
      "metadata": {
        "id": "ut8kIF2ivqTk"
      }
    },
    {
      "cell_type": "code",
      "source": [
        "from sklearn.neighbors import KNeighborsClassifier"
      ],
      "metadata": {
        "id": "s7A9FePpvrkJ"
      },
      "execution_count": null,
      "outputs": []
    },
    {
      "cell_type": "code",
      "source": [
        "#Train Set\n",
        "model_kn = KNeighborsClassifier()\n",
        "model_kn.fit(X_train, y_train)\n",
        "pred_kn = model_kn.predict(X_train)\n",
        "kn = accuracy_score(y_train, pred_kn)\n",
        "print(kn)\n"
      ],
      "metadata": {
        "colab": {
          "base_uri": "https://localhost:8080/"
        },
        "id": "AR37bAtvwAIW",
        "outputId": "f6309618-6105-4497-b82a-d37e5cf5fc74"
      },
      "execution_count": null,
      "outputs": [
        {
          "output_type": "stream",
          "name": "stdout",
          "text": [
            "0.8677685950413223\n"
          ]
        }
      ]
    },
    {
      "cell_type": "code",
      "source": [
        "#Test Set\n",
        "model_kn = KNeighborsClassifier()\n",
        "model_kn.fit(X_train, y_train)\n",
        "pred_kn = model_kn.predict(X_test)\n",
        "kn = accuracy_score(y_test, pred_kn)\n",
        "print(kn)\n"
      ],
      "metadata": {
        "colab": {
          "base_uri": "https://localhost:8080/"
        },
        "id": "gcmr-s7Mvr-k",
        "outputId": "ffebf6ba-8539-4d3a-c5db-f68f045ebed9"
      },
      "execution_count": null,
      "outputs": [
        {
          "output_type": "stream",
          "name": "stdout",
          "text": [
            "0.9180327868852459\n"
          ]
        }
      ]
    },
    {
      "cell_type": "code",
      "source": [
        "cm_kn = confusion_matrix(y_test, pred_kn)\n",
        "sns.heatmap(cm_kn/np.sum(cm_kn), annot = True, fmt=  '0.2%', cmap = 'Reds')"
      ],
      "metadata": {
        "colab": {
          "base_uri": "https://localhost:8080/",
          "height": 503
        },
        "id": "CK5rECJrvu61",
        "outputId": "23eea038-46fe-411b-82cc-4d668efb20da"
      },
      "execution_count": null,
      "outputs": [
        {
          "output_type": "execute_result",
          "data": {
            "text/plain": [
              "<Axes: >"
            ]
          },
          "metadata": {},
          "execution_count": 20
        },
        {
          "output_type": "display_data",
          "data": {
            "text/plain": [
              "<Figure size 800x550 with 2 Axes>"
            ],
            "image/png": "[encoded data removed]"
          },
          "metadata": {}
        }
      ]
    },
    {
      "cell_type": "markdown",
      "source": [
        "##SVC"
      ],
      "metadata": {
        "id": "OZTSCNxrwS49"
      }
    },
    {
      "cell_type": "code",
      "source": [
        "from sklearn.svm import SVC, LinearSVC"
      ],
      "metadata": {
        "id": "koaZw-9XvzRP"
      },
      "execution_count": null,
      "outputs": []
    },
    {
      "cell_type": "code",
      "source": [
        "#Train set\n",
        "model_svm = SVC()\n",
        "model_svm.fit(X_train, y_train)\n",
        "pred_svm = model_svm.predict(X_train)\n",
        "sv = accuracy_score(y_train, pred_svm)\n",
        "print(sv)"
      ],
      "metadata": {
        "colab": {
          "base_uri": "https://localhost:8080/"
        },
        "id": "EBx6oEbkwbe9",
        "outputId": "f41e367d-cfb0-4328-8a0f-220d006e6841"
      },
      "execution_count": null,
      "outputs": [
        {
          "output_type": "stream",
          "name": "stdout",
          "text": [
            "0.8677685950413223\n"
          ]
        }
      ]
    },
    {
      "cell_type": "code",
      "source": [
        "#Test set\n",
        "model_svm = SVC()\n",
        "model_svm.fit(X_train, y_train)\n",
        "pred_svm = model_svm.predict(X_test)\n",
        "sv = accuracy_score(y_test, pred_svm)\n",
        "print(sv)"
      ],
      "metadata": {
        "colab": {
          "base_uri": "https://localhost:8080/"
        },
        "id": "2DTFLot6wR2T",
        "outputId": "1f5db6ef-f36b-4061-e2ec-c84ffa8c2b82"
      },
      "execution_count": null,
      "outputs": [
        {
          "output_type": "stream",
          "name": "stdout",
          "text": [
            "0.9344262295081968\n"
          ]
        }
      ]
    },
    {
      "cell_type": "code",
      "source": [
        "cm_sv = confusion_matrix(y_test, pred_svm)\n",
        "sns.heatmap(cm_sv/np.sum(cm_sv), annot = True, fmt=  '0.2%', cmap = 'Reds')"
      ],
      "metadata": {
        "colab": {
          "base_uri": "https://localhost:8080/",
          "height": 503
        },
        "id": "EgmJy-hDwXV6",
        "outputId": "fccf329d-3f56-4fbe-9bcd-dd9f04ca718c"
      },
      "execution_count": null,
      "outputs": [
        {
          "output_type": "execute_result",
          "data": {
            "text/plain": [
              "<Axes: >"
            ]
          },
          "metadata": {},
          "execution_count": 24
        },
        {
          "output_type": "display_data",
          "data": {
            "text/plain": [
              "<Figure size 800x550 with 2 Axes>"
            ],
            "image/png": "[encoded data removed]"
          },
          "metadata": {}
        }
      ]
    },
    {
      "cell_type": "markdown",
      "source": [
        "##Random Forest"
      ],
      "metadata": {
        "id": "Ujg0eJ2zwph9"
      }
    },
    {
      "cell_type": "code",
      "source": [
        "from sklearn.ensemble import RandomForestClassifier"
      ],
      "metadata": {
        "id": "Za3DwSPmwYin"
      },
      "execution_count": null,
      "outputs": []
    },
    {
      "cell_type": "code",
      "source": [
        "#Train set\n",
        "model_rf = RandomForestClassifier()\n",
        "model_rf.fit(X_train, y_train)\n",
        "pred_rf = model_rf.predict(X_train)\n",
        "rf = accuracy_score(y_train, pred_rf)\n",
        "print(rf)"
      ],
      "metadata": {
        "colab": {
          "base_uri": "https://localhost:8080/"
        },
        "id": "y4lGAPiswvQZ",
        "outputId": "409147eb-9bb1-4342-f54b-198cc6522b96"
      },
      "execution_count": null,
      "outputs": [
        {
          "output_type": "stream",
          "name": "stdout",
          "text": [
            "1.0\n"
          ]
        }
      ]
    },
    {
      "cell_type": "code",
      "source": [
        "#Test set\n",
        "model_rf = RandomForestClassifier()\n",
        "model_rf.fit(X_train, y_train)\n",
        "pred_rf = model_rf.predict(X_test)\n",
        "rf = accuracy_score(y_test, pred_rf)\n",
        "print(rf)"
      ],
      "metadata": {
        "colab": {
          "base_uri": "https://localhost:8080/"
        },
        "id": "cDjUGiM8woyq",
        "outputId": "80886994-2025-44ac-b743-dbcaf069598b"
      },
      "execution_count": null,
      "outputs": [
        {
          "output_type": "stream",
          "name": "stdout",
          "text": [
            "0.9180327868852459\n"
          ]
        }
      ]
    },
    {
      "cell_type": "code",
      "source": [
        "cm_rf = confusion_matrix(y_test, pred_rf)\n",
        "sns.heatmap(cm_rf/np.sum(cm_rf), annot = True, fmt=  '0.2%', cmap = 'Reds')"
      ],
      "metadata": {
        "colab": {
          "base_uri": "https://localhost:8080/",
          "height": 503
        },
        "id": "8WCsiIzDw2b7",
        "outputId": "52416408-44e5-44a1-9a65-0a44c03ccacb"
      },
      "execution_count": null,
      "outputs": [
        {
          "output_type": "execute_result",
          "data": {
            "text/plain": [
              "<Axes: >"
            ]
          },
          "metadata": {},
          "execution_count": 28
        },
        {
          "output_type": "display_data",
          "data": {
            "text/plain": [
              "<Figure size 800x550 with 2 Axes>"
            ],
            "image/png": "[encoded data removed]"
          },
          "metadata": {}
        }
      ]
    },
    {
      "cell_type": "code",
      "source": [],
      "metadata": {
        "id": "vlFp4lFgBGEz"
      },
      "execution_count": null,
      "outputs": []
    },
    {
      "cell_type": "markdown",
      "source": [
        "##Decision Tree"
      ],
      "metadata": {
        "id": "0zT9p8uqxAMN"
      }
    },
    {
      "cell_type": "code",
      "source": [
        "from sklearn.tree import DecisionTreeClassifier"
      ],
      "metadata": {
        "id": "dNy0wug6w7Av"
      },
      "execution_count": null,
      "outputs": []
    },
    {
      "cell_type": "code",
      "source": [
        "#Train set\n",
        "model_dt = DecisionTreeClassifier()\n",
        "model_dt.fit(X_train,y_train)\n",
        "pred_dt = model_dt.predict(X_train)\n",
        "dt = accuracy_score(y_train, pred_dt)\n",
        "print(dt)"
      ],
      "metadata": {
        "colab": {
          "base_uri": "https://localhost:8080/"
        },
        "id": "ObzKwPNOxFOc",
        "outputId": "c2934f1e-107d-4aa5-a5f7-36f90b26beb9"
      },
      "execution_count": null,
      "outputs": [
        {
          "output_type": "stream",
          "name": "stdout",
          "text": [
            "1.0\n"
          ]
        }
      ]
    },
    {
      "cell_type": "code",
      "source": [
        "#Test set\n",
        "model_dt = DecisionTreeClassifier()\n",
        "model_dt.fit(X_train,y_train)\n",
        "pred_dt = model_dt.predict(X_test)\n",
        "dt = accuracy_score(y_test, pred_dt)\n",
        "print(dt)"
      ],
      "metadata": {
        "colab": {
          "base_uri": "https://localhost:8080/"
        },
        "id": "DAtDoLA7xCL1",
        "outputId": "0ec2021c-6d28-4d38-a2ed-0d5ff457c6c7"
      },
      "execution_count": null,
      "outputs": [
        {
          "output_type": "stream",
          "name": "stdout",
          "text": [
            "0.8852459016393442\n"
          ]
        }
      ]
    },
    {
      "cell_type": "code",
      "source": [
        "cm_dt = confusion_matrix(y_test, pred_dt)\n",
        "sns.heatmap(cm_dt/np.sum(cm_dt), annot = True, fmt=  '0.2%', cmap = 'Reds')"
      ],
      "metadata": {
        "colab": {
          "base_uri": "https://localhost:8080/",
          "height": 503
        },
        "id": "9DziCFSwxJ3i",
        "outputId": "b91860ad-c62c-4e21-9534-e8760824dd1a"
      },
      "execution_count": null,
      "outputs": [
        {
          "output_type": "execute_result",
          "data": {
            "text/plain": [
              "<Axes: >"
            ]
          },
          "metadata": {},
          "execution_count": 32
        },
        {
          "output_type": "display_data",
          "data": {
            "text/plain": [
              "<Figure size 800x550 with 2 Axes>"
            ],
            "image/png": "[encoded data removed]"
          },
          "metadata": {}
        }
      ]
    },
    {
      "cell_type": "markdown",
      "source": [
        "##Logistic Regression"
      ],
      "metadata": {
        "id": "LAhQPER2xQJ5"
      }
    },
    {
      "cell_type": "code",
      "source": [
        "from sklearn.linear_model import LogisticRegression"
      ],
      "metadata": {
        "id": "PiCPb5-PxN8A"
      },
      "execution_count": null,
      "outputs": []
    },
    {
      "cell_type": "code",
      "source": [
        "#Train set\n",
        "model_lg = LogisticRegression()\n",
        "model_lg.fit(X_train, y_train)\n",
        "pred_lg = model_lg.predict(X_test)\n",
        "lg = accuracy_score(y_test, pred_lg)\n",
        "print(lg)"
      ],
      "metadata": {
        "colab": {
          "base_uri": "https://localhost:8080/"
        },
        "id": "Ogbsh8BdxVhm",
        "outputId": "69c2465b-a8b6-40be-a45f-a2328e75f32f"
      },
      "execution_count": null,
      "outputs": [
        {
          "output_type": "stream",
          "name": "stdout",
          "text": [
            "0.9508196721311475\n"
          ]
        }
      ]
    },
    {
      "cell_type": "code",
      "source": [
        "#Test set\n",
        "model_lg = LogisticRegression()\n",
        "model_lg.fit(X_train, y_train)\n",
        "pred_lg = model_lg.predict(X_test)\n",
        "lg = accuracy_score(y_test, pred_lg)\n",
        "print(lg)"
      ],
      "metadata": {
        "colab": {
          "base_uri": "https://localhost:8080/"
        },
        "id": "ay9SIDYHxShJ",
        "outputId": "c1a74ddc-04a9-4f32-f4d3-d3f149a74664"
      },
      "execution_count": null,
      "outputs": [
        {
          "output_type": "stream",
          "name": "stdout",
          "text": [
            "0.9508196721311475\n"
          ]
        }
      ]
    },
    {
      "cell_type": "code",
      "source": [
        "cm_lg = confusion_matrix(y_test, pred_lg)\n",
        "sns.heatmap(cm_lg/np.sum(cm_lg), annot = True, fmt=  '0.2%', cmap = 'Reds')"
      ],
      "metadata": {
        "colab": {
          "base_uri": "https://localhost:8080/",
          "height": 503
        },
        "id": "7Eh1Lii8xZ3W",
        "outputId": "082b524c-3904-4a0a-e77a-7f6660b350ae"
      },
      "execution_count": null,
      "outputs": [
        {
          "output_type": "execute_result",
          "data": {
            "text/plain": [
              "<Axes: >"
            ]
          },
          "metadata": {},
          "execution_count": 36
        },
        {
          "output_type": "display_data",
          "data": {
            "text/plain": [
              "<Figure size 800x550 with 2 Axes>"
            ],
            "image/png": "[encoded data removed]"
          },
          "metadata": {}
        }
      ]
    },
    {
      "cell_type": "code",
      "source": [
        "models = pd.DataFrame({\n",
        "    'Model':['Logistic Regression', 'Decision Tree', 'Random Forest', 'XGBoost', 'KNeighbours', 'SVC'],\n",
        "    'Accuracy_score' :[lg, dt, rf, xgb, kn, sv]\n",
        "})\n",
        "models\n",
        "sns.barplot(x='Accuracy_score', y='Model', data=models)\n",
        "\n",
        "models.sort_values(by='Accuracy_score', ascending=False)"
      ],
      "metadata": {
        "colab": {
          "base_uri": "https://localhost:8080/",
          "height": 723
        },
        "id": "KE4FoBoBxbhB",
        "outputId": "03017c12-2433-482b-c739-add20796c075"
      },
      "execution_count": null,
      "outputs": [
        {
          "output_type": "execute_result",
          "data": {
            "text/plain": [
              "                 Model  Accuracy_score\n",
              "0  Logistic Regression        0.950820\n",
              "5                  SVC        0.934426\n",
              "2        Random Forest        0.918033\n",
              "4          KNeighbours        0.918033\n",
              "1        Decision Tree        0.885246\n",
              "3              XGBoost        0.852459"
            ],
            "text/html": [
              "\n",
              "  <div id=\"df-2bf42ff9-96b8-45ee-a071-4982973723b5\">\n",
              "    <div class=\"colab-df-container\">\n",
              "      <div>\n",
              "<style scoped>\n",
              "    .dataframe tbody tr th:only-of-type {\n",
              "        vertical-align: middle;\n",
              "    }\n",
              "\n",
              "    .dataframe tbody tr th {\n",
              "        vertical-align: top;\n",
              "    }\n",
              "\n",
              "    .dataframe thead th {\n",
              "        text-align: right;\n",
              "    }\n",
              "</style>\n",
              "<table border=\"1\" class=\"dataframe\">\n",
              "  <thead>\n",
              "    <tr style=\"text-align: right;\">\n",
              "      <th></th>\n",
              "      <th>Model</th>\n",
              "      <th>Accuracy_score</th>\n",
              "    </tr>\n",
              "  </thead>\n",
              "  <tbody>\n",
              "    <tr>\n",
              "      <th>0</th>\n",
              "      <td>Logistic Regression</td>\n",
              "      <td>0.950820</td>\n",
              "    </tr>\n",
              "    <tr>\n",
              "      <th>5</th>\n",
              "      <td>SVC</td>\n",
              "      <td>0.934426</td>\n",
              "    </tr>\n",
              "    <tr>\n",
              "      <th>2</th>\n",
              "      <td>Random Forest</td>\n",
              "      <td>0.918033</td>\n",
              "    </tr>\n",
              "    <tr>\n",
              "      <th>4</th>\n",
              "      <td>KNeighbours</td>\n",
              "      <td>0.918033</td>\n",
              "    </tr>\n",
              "    <tr>\n",
              "      <th>1</th>\n",
              "      <td>Decision Tree</td>\n",
              "      <td>0.885246</td>\n",
              "    </tr>\n",
              "    <tr>\n",
              "      <th>3</th>\n",
              "      <td>XGBoost</td>\n",
              "      <td>0.852459</td>\n",
              "    </tr>\n",
              "  </tbody>\n",
              "</table>\n",
              "</div>\n",
              "      <button class=\"colab-df-convert\" onclick=\"convertToInteractive('df-2bf42ff9-96b8-45ee-a071-4982973723b5')\"\n",
              "              title=\"Convert this dataframe to an interactive table.\"\n",
              "              style=\"display:none;\">\n",
              "        \n",
              "  <svg xmlns=\"http://www.w3.org/2000/svg\" height=\"24px\"viewBox=\"0 0 24 24\"\n",
              "       width=\"24px\">\n",
              "    <path d=\"M0 0h24v24H0V0z\" fill=\"none\"/>\n",
              "    <path d=\"M18.56 5.44l.94 2.06.94-2.06 2.06-.94-2.06-.94-.94-2.06-.94 2.06-2.06.94zm-11 1L8.5 8.5l.94-2.06 2.06-.94-2.06-.94L8.5 2.5l-.94 2.06-2.06.94zm10 10l.94 2.06.94-2.06 2.06-.94-2.06-.94-.94-2.06-.94 2.06-2.06.94z\"/><path d=\"M17.41 7.96l-1.37-1.37c-.4-.4-.92-.59-1.43-.59-.52 0-1.04.2-1.43.59L10.3 9.45l-7.72 7.72c-.78.78-.78 2.05 0 2.83L4 21.41c.39.39.9.59 1.41.59.51 0 1.02-.2 1.41-.59l7.78-7.78 2.81-2.81c.8-.78.8-2.07 0-2.86zM5.41 20L4 18.59l7.72-7.72 1.47 1.35L5.41 20z\"/>\n",
              "  </svg>\n",
              "      </button>\n",
              "      \n",
              "  <style>\n",
              "    .colab-df-container {\n",
              "      display:flex;\n",
              "      flex-wrap:wrap;\n",
              "      gap: 12px;\n",
              "    }\n",
              "\n",
              "    .colab-df-convert {\n",
              "      background-color: #E8F0FE;\n",
              "      border: none;\n",
              "      border-radius: 50%;\n",
              "      cursor: pointer;\n",
              "      display: none;\n",
              "      fill: #1967D2;\n",
              "      height: 32px;\n",
              "      padding: 0 0 0 0;\n",
              "      width: 32px;\n",
              "    }\n",
              "\n",
              "    .colab-df-convert:hover {\n",
              "      background-color: #E2EBFA;\n",
              "      box-shadow: 0px 1px 2px rgba(60, 64, 67, 0.3), 0px 1px 3px 1px rgba(60, 64, 67, 0.15);\n",
              "      fill: #174EA6;\n",
              "    }\n",
              "\n",
              "    [theme=dark] .colab-df-convert {\n",
              "      background-color: #3B4455;\n",
              "      fill: #D2E3FC;\n",
              "    }\n",
              "\n",
              "    [theme=dark] .colab-df-convert:hover {\n",
              "      background-color: #434B5C;\n",
              "      box-shadow: 0px 1px 3px 1px rgba(0, 0, 0, 0.15);\n",
              "      filter: drop-shadow(0px 1px 2px rgba(0, 0, 0, 0.3));\n",
              "      fill: #FFFFFF;\n",
              "    }\n",
              "  </style>\n",
              "\n",
              "      <script>\n",
              "        const buttonEl =\n",
              "          document.querySelector('#df-2bf42ff9-96b8-45ee-a071-4982973723b5 button.colab-df-convert');\n",
              "        buttonEl.style.display =\n",
              "          google.colab.kernel.accessAllowed ? 'block' : 'none';\n",
              "\n",
              "        async function convertToInteractive(key) {\n",
              "          const element = document.querySelector('#df-2bf42ff9-96b8-45ee-a071-4982973723b5');\n",
              "          const dataTable =\n",
              "            await google.colab.kernel.invokeFunction('convertToInteractive',\n",
              "                                                     [key], {});\n",
              "          if (!dataTable) return;\n",
              "\n",
              "          const docLinkHtml = 'Like what you see? Visit the ' +\n",
              "            '<a target=\"_blank\" href=https://colab.research.google.com/notebooks/data_table.ipynb>data table notebook</a>'\n",
              "            + ' to learn more about interactive tables.';\n",
              "          element.innerHTML = '';\n",
              "          dataTable['output_type'] = 'display_data';\n",
              "          await google.colab.output.renderOutput(dataTable, element);\n",
              "          const docLink = document.createElement('div');\n",
              "          docLink.innerHTML = docLinkHtml;\n",
              "          element.appendChild(docLink);\n",
              "        }\n",
              "      </script>\n",
              "    </div>\n",
              "  </div>\n",
              "  "
            ]
          },
          "metadata": {},
          "execution_count": 37
        },
        {
          "output_type": "display_data",
          "data": {
            "text/plain": [
              "<Figure size 800x550 with 1 Axes>"
            ],
            "image/png": "[encoded data removed]"
          },
          "metadata": {}
        }
      ]
    },
    {
      "cell_type": "code",
      "source": [],
      "metadata": {
        "id": "-DbBq3hjxebW"
      },
      "execution_count": null,
      "outputs": []
    }
  ]
}